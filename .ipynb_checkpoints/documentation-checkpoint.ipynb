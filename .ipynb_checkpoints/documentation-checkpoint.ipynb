{
 "cells": [
  {
   "cell_type": "markdown",
   "id": "5a654630-f924-4e8b-98be-8ee57d3a402d",
   "metadata": {},
   "source": [
    "# European Union Energy Map"
   ]
  },
  {
   "cell_type": "markdown",
   "id": "2d8b139b-5b67-4e0e-9f96-e15805de5918",
   "metadata": {},
   "source": [
    "Dashboard with interactive map visualizing Eurostat data regarding renewable energy developments in the European Union.\n",
    "\n",
    "Data is pulled from [Eurostat](https://ec.europa.eu/eurostat/databrowser/explore/all/envir?lang=en&subtheme=nrg&display=list&sort=category).\n",
    "\n",
    "**GitHub**: [https://github.com/kuranez/EU-Energy-Map](https://github.com/kuranez/EU-Energy-Map)"
   ]
  },
  {
   "cell_type": "markdown",
   "id": "d91fd0ec-25c1-403c-88d6-f08c45f5c740",
   "metadata": {},
   "source": [
    "# Data Info"
   ]
  },
  {
   "cell_type": "markdown",
   "id": "12257f85-393d-41ee-86d2-4ad81d89d1cf",
   "metadata": {},
   "source": [
    "**Renewable Energy Dataset**\n",
    "\n",
    "---\n",
    "\n",
    "This dataset provides information on the **share of energy from renewable sources** across various European countries. It originates from **Eurostat**, the statistical office of the European Union, and includes annual data on renewable energy consumption and production.\n",
    "\n",
    "- **Filename:** **`nrg_ind_ren_linear.csv`**\n",
    "- **Title:** **Share of energy from renewable sources**\n",
    "- **Source:** [Eurostat - Share of Renewable Energy](https://ec.europa.eu/eurostat/databrowser/view/nrg_ind_ren/default/table?lang=en)\n",
    "- **Time Range:** 2004–2022\n",
    "- **Geographical Coverage:** European countries, EU aggregates, and select neighboring states\n",
    "- **Key Indicators:** Energy type, renewable percentage, country codes and years"
   ]
  },
  {
   "cell_type": "markdown",
   "id": "7a6f8c33-ed6e-4a51-b566-6ba4b9404986",
   "metadata": {},
   "source": [
    "**Geoprahical data**\n",
    "\n",
    "---\n",
    "\n",
    "This dataset contains the **administrative boundaries of European countries** in GeoJSON format, suitable for web-based mapping and spatial analysis. It is sourced from **GISCO - Eurostat**, ensuring accuracy and alignment with official European statistics.\n",
    "\n",
    "- **Filename:** **`europe.geojson`**\n",
    "- **Source:** [Countries - GISCO - Eurostat](https://ec.europa.eu/eurostat/web/gisco/geodata/administrative-units/countries)\n",
    "- **Year:** 2024\n",
    "- **File format:** GeoJSON\n",
    "\tA lightweight and widely supported format for web mapping applications.\n",
    "- **Geometry Type:** Polygons (RG)\n",
    "\tProvides full administrative boundaries as polygons, making it ideal for accurately displaying country borders in mapping applications.\n",
    "- **Scale:** 20M\n",
    "    A 1:20,000,000 scale offers a balanced level of detail while keeping file size manageable. This is well-suited for web applications where performance is a priority.\n",
    "- **Coordinate Reference System:** EPSG: 4326\n",
    "\tUses the WGS 84 latitude/longitude system, the standard for global web mapping. This CRS ensures compatibility with most web mapping libraries, including Leaflet, Mapbox, and OpenLayers, making it the best choice for interactive maps."
   ]
  },
  {
   "cell_type": "markdown",
   "id": "27444f3a-9911-4106-9ea5-ff5e1c7522dc",
   "metadata": {},
   "source": [
    "# Notebook Structure"
   ]
  },
  {
   "cell_type": "markdown",
   "id": "f042888a-2d6c-4008-95ac-6f5092b52275",
   "metadata": {},
   "source": [
    "```plaintext\n",
    "EU Energy Map v.1.0 : Workflow Diagram\n",
    "├── 1. Import\n",
    "│   ├── a. Standard Library Modules\n",
    "│   ├── b. Dashboard and WebApp - Panel\n",
    "│   ├── c. Data Analysis - Pandas and Geopandas\n",
    "│   ├── d. Data Visualization - Plotly Ecosystem\n",
    "│\n",
    "├── 2. Settings\n",
    "│   ├── a. Set Panel extension\n",
    "│   ├── b. Set Plotly renderer\n",
    "│   ├── c. Set MapBox Access Token\n",
    "│\n",
    "├── 3. Methods\n",
    "│   ├── a. Country Flags\n",
    "│   ├── b. Load Data\n",
    "│   ├── c. Filter Data\n",
    "│   ├── d. Data Calculations\n",
    "│   ├── e. Create Map\n",
    "│   ├── f. Create Charts\n",
    "│   ├── g. Create Widgets\n",
    "│\n",
    "├── 4. Execute\n",
    "│   ├── a. Widgets\n",
    "│   ├── b. Sidebar\n",
    "│   ├── c. Main Panel Components\n",
    "│       ├── DataTable\n",
    "│       ├── Map\n",
    "│       ├── Bar Charts\n",
    "│\n",
    "├── 5. Dashboard Creation\n",
    "│   ├── a. Create Components\n",
    "│   ├── b. Define Update Functions\n",
    "│   ├── c. Bind Widgets to Update Functions\n",
    "│\n",
    "├── 6. Dashboard Layout\n",
    "│   ├── a. Create Panes\n",
    "│   ├── b. Create Tabs\n",
    "│   ├── c. Create Layout\n",
    "│\n",
    "└── 7. Serve Dashboard\n",
    "```"
   ]
  },
  {
   "cell_type": "markdown",
   "id": "62a21ee3-0b42-4f86-80c9-e689789b8951",
   "metadata": {},
   "source": [
    "# I. Import"
   ]
  },
  {
   "cell_type": "markdown",
   "id": "723a1b5b-3cc8-4ab0-be9c-06f37acb53b2",
   "metadata": {},
   "source": [
    "- **a.** **Standard Library Modules** (Built-in Python modules)\n",
    "- **b.** **Interactive Dashboard** and **Web App Development**\n",
    "- **c.** **Data Manipulation** and **Geospatial Analysis**\n",
    "- **d.** **Data Visualization** (Plotly Ecosystem)"
   ]
  },
  {
   "cell_type": "markdown",
   "id": "fa18c60b-aeaf-4018-9de6-e97eeedda9e4",
   "metadata": {},
   "source": [
    "##### [Show/Hide Code]"
   ]
  },
  {
   "cell_type": "code",
   "execution_count": 67,
   "id": "fc8efb91-1916-4d5f-8317-2fac60d924c8",
   "metadata": {},
   "outputs": [],
   "source": [
    "# a. Standard Library Modules (Built-in Python modules)\n",
    "import os\n",
    "import json\n",
    "\n",
    "# b. Interactive Dashboard and Web App Development\n",
    "import panel as pn\n",
    "\n",
    "# c. Data Manipulation and Geospatial Analysis \n",
    "import pandas as pd\n",
    "import geopandas as gpd\n",
    "\n",
    "# d. Data Visualization (Plotly Ecosystem)\n",
    "import plotly.express as px\n",
    "import plotly.graph_objects as go\n",
    "import plotly.io as pio\n",
    "import plotly.colors as pc\n",
    "from plotly.colors import sample_colorscale"
   ]
  },
  {
   "cell_type": "markdown",
   "id": "8ad56583-12b5-4f9b-a8ac-37a6fda310ec",
   "metadata": {},
   "source": [
    "# II. Settings"
   ]
  },
  {
   "cell_type": "markdown",
   "id": "008479a5-1b15-4139-a5e6-c9e9876fa995",
   "metadata": {},
   "source": [
    "- **a.** Set **Panel** extension\n",
    "- **b.** Set **Plotly** renderer\n",
    "- **c.** Set **MapBox**-Access-Token"
   ]
  },
  {
   "cell_type": "markdown",
   "id": "273c8138-1766-421c-ac7c-8722030638d9",
   "metadata": {},
   "source": [
    "##### [Show/Hide Code]"
   ]
  },
  {
   "cell_type": "code",
   "execution_count": 2,
   "id": "05a2b819-55c9-4014-a578-662ec6af7b2d",
   "metadata": {},
   "outputs": [
    {
     "data": {
      "text/html": [
       "<script type=\"esms-options\">{\"shimMode\": true}</script><style>*[data-root-id],\n",
       "*[data-root-id] > * {\n",
       "  box-sizing: border-box;\n",
       "  font-family: var(--jp-ui-font-family);\n",
       "  font-size: var(--jp-ui-font-size1);\n",
       "  color: var(--vscode-editor-foreground, var(--jp-ui-font-color1));\n",
       "}\n",
       "\n",
       "/* Override VSCode background color */\n",
       ".cell-output-ipywidget-background:has(\n",
       "    > .cell-output-ipywidget-background > .lm-Widget > *[data-root-id]\n",
       "  ),\n",
       ".cell-output-ipywidget-background:has(> .lm-Widget > *[data-root-id]) {\n",
       "  background-color: transparent !important;\n",
       "}\n",
       "</style>"
      ]
     },
     "metadata": {},
     "output_type": "display_data"
    },
    {
     "data": {
      "application/javascript": "(function(root) {\n  function now() {\n    return new Date();\n  }\n\n  const force = true;\n  const py_version = '3.7.3'.replace('rc', '-rc.').replace('.dev', '-dev.');\n  const reloading = false;\n  const Bokeh = root.Bokeh;\n\n  // Set a timeout for this load but only if we are not already initializing\n  if (typeof (root._bokeh_timeout) === \"undefined\" || (force || !root._bokeh_is_initializing)) {\n    root._bokeh_timeout = Date.now() + 5000;\n    root._bokeh_failed_load = false;\n  }\n\n  function run_callbacks() {\n    try {\n      root._bokeh_onload_callbacks.forEach(function(callback) {\n        if (callback != null)\n          callback();\n      });\n    } finally {\n      delete root._bokeh_onload_callbacks;\n    }\n    console.debug(\"Bokeh: all callbacks have finished\");\n  }\n\n  function load_libs(css_urls, js_urls, js_modules, js_exports, callback) {\n    if (css_urls == null) css_urls = [];\n    if (js_urls == null) js_urls = [];\n    if (js_modules == null) js_modules = [];\n    if (js_exports == null) js_exports = {};\n\n    root._bokeh_onload_callbacks.push(callback);\n\n    if (root._bokeh_is_loading > 0) {\n      // Don't load bokeh if it is still initializing\n      console.debug(\"Bokeh: BokehJS is being loaded, scheduling callback at\", now());\n      return null;\n    } else if (js_urls.length === 0 && js_modules.length === 0 && Object.keys(js_exports).length === 0) {\n      // There is nothing to load\n      run_callbacks();\n      return null;\n    }\n\n    function on_load() {\n      root._bokeh_is_loading--;\n      if (root._bokeh_is_loading === 0) {\n        console.debug(\"Bokeh: all BokehJS libraries/stylesheets loaded\");\n        run_callbacks()\n      }\n    }\n    window._bokeh_on_load = on_load\n\n    function on_error(e) {\n      const src_el = e.srcElement\n      console.error(\"failed to load \" + (src_el.href || src_el.src));\n    }\n\n    const skip = [];\n    if (window.requirejs) {\n      window.requirejs.config({'packages': {}, 'paths': {'tabulator': 'https://cdn.jsdelivr.net/npm/tabulator-tables@6.3.1/dist/js/tabulator.min', 'moment': 'https://cdn.jsdelivr.net/npm/luxon/build/global/luxon.min', 'plotly': 'https://cdn.plot.ly/plotly-3.0.1.min'}, 'shim': {}});\n      require([\"tabulator\"], function(Tabulator) {\n        window.Tabulator = Tabulator\n        on_load()\n      })\n      require([\"moment\"], function(moment) {\n        window.moment = moment\n        on_load()\n      })\n      require([\"plotly\"], function(Plotly) {\n        window.Plotly = Plotly\n        on_load()\n      })\n      root._bokeh_is_loading = css_urls.length + 3;\n    } else {\n      root._bokeh_is_loading = css_urls.length + js_urls.length + js_modules.length + Object.keys(js_exports).length;\n    }\n\n    const existing_stylesheets = []\n    const links = document.getElementsByTagName('link')\n    for (let i = 0; i < links.length; i++) {\n      const link = links[i]\n      if (link.href != null) {\n        existing_stylesheets.push(link.href)\n      }\n    }\n    for (let i = 0; i < css_urls.length; i++) {\n      const url = css_urls[i];\n      const escaped = encodeURI(url)\n      if (existing_stylesheets.indexOf(escaped) !== -1) {\n        on_load()\n        continue;\n      }\n      const element = document.createElement(\"link\");\n      element.onload = on_load;\n      element.onerror = on_error;\n      element.rel = \"stylesheet\";\n      element.type = \"text/css\";\n      element.href = url;\n      console.debug(\"Bokeh: injecting link tag for BokehJS stylesheet: \", url);\n      document.body.appendChild(element);\n    }    if (((window.Tabulator !== undefined) && (!(window.Tabulator instanceof HTMLElement))) || window.requirejs) {\n      var urls = ['https://cdn.holoviz.org/panel/1.7.0/dist/bundled/datatabulator/tabulator-tables@6.3.1/dist/js/tabulator.min.js'];\n      for (var i = 0; i < urls.length; i++) {\n        skip.push(encodeURI(urls[i]))\n      }\n    }    if (((window.moment !== undefined) && (!(window.moment instanceof HTMLElement))) || window.requirejs) {\n      var urls = ['https://cdn.holoviz.org/panel/1.7.0/dist/bundled/datatabulator/luxon/build/global/luxon.min.js'];\n      for (var i = 0; i < urls.length; i++) {\n        skip.push(encodeURI(urls[i]))\n      }\n    }    if (((window.Plotly !== undefined) && (!(window.Plotly instanceof HTMLElement))) || window.requirejs) {\n      var urls = [];\n      for (var i = 0; i < urls.length; i++) {\n        skip.push(encodeURI(urls[i]))\n      }\n    }    var existing_scripts = []\n    const scripts = document.getElementsByTagName('script')\n    for (let i = 0; i < scripts.length; i++) {\n      var script = scripts[i]\n      if (script.src != null) {\n        existing_scripts.push(script.src)\n      }\n    }\n    for (let i = 0; i < js_urls.length; i++) {\n      const url = js_urls[i];\n      const escaped = encodeURI(url)\n      if (skip.indexOf(escaped) !== -1 || existing_scripts.indexOf(escaped) !== -1) {\n        if (!window.requirejs) {\n          on_load();\n        }\n        continue;\n      }\n      const element = document.createElement('script');\n      element.onload = on_load;\n      element.onerror = on_error;\n      element.async = false;\n      element.src = url;\n      console.debug(\"Bokeh: injecting script tag for BokehJS library: \", url);\n      document.head.appendChild(element);\n    }\n    for (let i = 0; i < js_modules.length; i++) {\n      const url = js_modules[i];\n      const escaped = encodeURI(url)\n      if (skip.indexOf(escaped) !== -1 || existing_scripts.indexOf(escaped) !== -1) {\n        if (!window.requirejs) {\n          on_load();\n        }\n        continue;\n      }\n      var element = document.createElement('script');\n      element.onload = on_load;\n      element.onerror = on_error;\n      element.async = false;\n      element.src = url;\n      element.type = \"module\";\n      console.debug(\"Bokeh: injecting script tag for BokehJS library: \", url);\n      document.head.appendChild(element);\n    }\n    for (const name in js_exports) {\n      const url = js_exports[name];\n      const escaped = encodeURI(url)\n      if (skip.indexOf(escaped) >= 0 || root[name] != null) {\n        if (!window.requirejs) {\n          on_load();\n        }\n        continue;\n      }\n      var element = document.createElement('script');\n      element.onerror = on_error;\n      element.async = false;\n      element.type = \"module\";\n      console.debug(\"Bokeh: injecting script tag for BokehJS library: \", url);\n      element.textContent = `\n      import ${name} from \"${url}\"\n      window.${name} = ${name}\n      window._bokeh_on_load()\n      `\n      document.head.appendChild(element);\n    }\n    if (!js_urls.length && !js_modules.length) {\n      on_load()\n    }\n  };\n\n  function inject_raw_css(css) {\n    const element = document.createElement(\"style\");\n    element.appendChild(document.createTextNode(css));\n    document.body.appendChild(element);\n  }\n\n  const js_urls = [\"https://cdn.holoviz.org/panel/1.7.0/dist/bundled/reactiveesm/es-module-shims@^1.10.0/dist/es-module-shims.min.js\", \"https://cdn.holoviz.org/panel/1.7.0/dist/bundled/plotlyplot/plotly-3.0.1.min.js\", \"https://cdn.holoviz.org/panel/1.7.0/dist/bundled/datatabulator/tabulator-tables@6.3.1/dist/js/tabulator.min.js\", \"https://cdn.holoviz.org/panel/1.7.0/dist/bundled/datatabulator/luxon/build/global/luxon.min.js\", \"https://cdn.bokeh.org/bokeh/release/bokeh-3.7.3.min.js\", \"https://cdn.bokeh.org/bokeh/release/bokeh-gl-3.7.3.min.js\", \"https://cdn.bokeh.org/bokeh/release/bokeh-widgets-3.7.3.min.js\", \"https://cdn.bokeh.org/bokeh/release/bokeh-tables-3.7.3.min.js\", \"https://cdn.holoviz.org/panel/1.7.0/dist/bundled/material-components-web@7.0.0/dist/material-components-web.min.js\", \"https://cdn.holoviz.org/panel/1.7.0/dist/panel.min.js\"];\n  const js_modules = [];\n  const js_exports = {};\n  const css_urls = [\"https://cdn.holoviz.org/panel/1.7.0/dist/bundled/plotlyplot/maplibre-gl@4.4.1/dist/maplibre-gl.css?v=1.7.0\", \"https://cdn.holoviz.org/panel/1.7.0/dist/bundled/datatabulator/tabulator-tables@6.3.1/dist/css/tabulator_simple.min.css?v=1.7.0\", \"https://fonts.googleapis.com/css?family=Roboto:300,400,500\", \"https://fonts.googleapis.com/css?family=Material+Icons&display=block\"];\n  const inline_js = [    function(Bokeh) {\n      Bokeh.set_log_level(\"info\");\n    },\nfunction(Bokeh) {} // ensure no trailing comma for IE\n  ];\n\n  function run_inline_js() {\n    if ((root.Bokeh !== undefined) || (force === true)) {\n      for (let i = 0; i < inline_js.length; i++) {\n        try {\n          inline_js[i].call(root, root.Bokeh);\n        } catch(e) {\n          if (!reloading) {\n            throw e;\n          }\n        }\n      }\n      // Cache old bokeh versions\n      if (Bokeh != undefined && !reloading) {\n        var NewBokeh = root.Bokeh;\n        if (Bokeh.versions === undefined) {\n          Bokeh.versions = new Map();\n        }\n        if (NewBokeh.version !== Bokeh.version) {\n          Bokeh.versions.set(NewBokeh.version, NewBokeh)\n        }\n        root.Bokeh = Bokeh;\n      }\n    } else if (Date.now() < root._bokeh_timeout) {\n      setTimeout(run_inline_js, 100);\n    } else if (!root._bokeh_failed_load) {\n      console.log(\"Bokeh: BokehJS failed to load within specified timeout.\");\n      root._bokeh_failed_load = true;\n    }\n    root._bokeh_is_initializing = false\n  }\n\n  function load_or_wait() {\n    // Implement a backoff loop that tries to ensure we do not load multiple\n    // versions of Bokeh and its dependencies at the same time.\n    // In recent versions we use the root._bokeh_is_initializing flag\n    // to determine whether there is an ongoing attempt to initialize\n    // bokeh, however for backward compatibility we also try to ensure\n    // that we do not start loading a newer (Panel>=1.0 and Bokeh>3) version\n    // before older versions are fully initialized.\n    if (root._bokeh_is_initializing && Date.now() > root._bokeh_timeout) {\n      // If the timeout and bokeh was not successfully loaded we reset\n      // everything and try loading again\n      root._bokeh_timeout = Date.now() + 5000;\n      root._bokeh_is_initializing = false;\n      root._bokeh_onload_callbacks = undefined;\n      root._bokeh_is_loading = 0\n      console.log(\"Bokeh: BokehJS was loaded multiple times but one version failed to initialize.\");\n      load_or_wait();\n    } else if (root._bokeh_is_initializing || (typeof root._bokeh_is_initializing === \"undefined\" && root._bokeh_onload_callbacks !== undefined)) {\n      setTimeout(load_or_wait, 100);\n    } else {\n      root._bokeh_is_initializing = true\n      root._bokeh_onload_callbacks = []\n      const bokeh_loaded = root.Bokeh != null && (root.Bokeh.version === py_version || (root.Bokeh.versions !== undefined && root.Bokeh.versions.has(py_version)));\n      if (!reloading && !bokeh_loaded) {\n        if (root.Bokeh) {\n          root.Bokeh = undefined;\n        }\n        console.debug(\"Bokeh: BokehJS not loaded, scheduling load and callback at\", now());\n      }\n      load_libs(css_urls, js_urls, js_modules, js_exports, function() {\n        console.debug(\"Bokeh: BokehJS plotting callback run at\", now());\n        run_inline_js();\n      });\n    }\n  }\n  // Give older versions of the autoload script a head-start to ensure\n  // they initialize before we start loading newer version.\n  setTimeout(load_or_wait, 100)\n}(window));",
      "application/vnd.holoviews_load.v0+json": ""
     },
     "metadata": {},
     "output_type": "display_data"
    },
    {
     "data": {
      "application/javascript": "\nif ((window.PyViz === undefined) || (window.PyViz instanceof HTMLElement)) {\n  window.PyViz = {comms: {}, comm_status:{}, kernels:{}, receivers: {}, plot_index: []}\n}\n\n\n    function JupyterCommManager() {\n    }\n\n    JupyterCommManager.prototype.register_target = function(plot_id, comm_id, msg_handler) {\n      if (window.comm_manager || ((window.Jupyter !== undefined) && (Jupyter.notebook.kernel != null))) {\n        var comm_manager = window.comm_manager || Jupyter.notebook.kernel.comm_manager;\n        comm_manager.register_target(comm_id, function(comm) {\n          comm.on_msg(msg_handler);\n        });\n      } else if ((plot_id in window.PyViz.kernels) && (window.PyViz.kernels[plot_id])) {\n        window.PyViz.kernels[plot_id].registerCommTarget(comm_id, function(comm) {\n          comm.onMsg = msg_handler;\n        });\n      } else if (typeof google != 'undefined' && google.colab.kernel != null) {\n        google.colab.kernel.comms.registerTarget(comm_id, (comm) => {\n          var messages = comm.messages[Symbol.asyncIterator]();\n          function processIteratorResult(result) {\n            var message = result.value;\n            console.log(message)\n            var content = {data: message.data, comm_id};\n            var buffers = []\n            for (var buffer of message.buffers || []) {\n              buffers.push(new DataView(buffer))\n            }\n            var metadata = message.metadata || {};\n            var msg = {content, buffers, metadata}\n            msg_handler(msg);\n            return messages.next().then(processIteratorResult);\n          }\n          return messages.next().then(processIteratorResult);\n        })\n      }\n    }\n\n    JupyterCommManager.prototype.get_client_comm = function(plot_id, comm_id, msg_handler) {\n      if (comm_id in window.PyViz.comms) {\n        return window.PyViz.comms[comm_id];\n      } else if (window.comm_manager || ((window.Jupyter !== undefined) && (Jupyter.notebook.kernel != null))) {\n        var comm_manager = window.comm_manager || Jupyter.notebook.kernel.comm_manager;\n        var comm = comm_manager.new_comm(comm_id, {}, {}, {}, comm_id);\n        if (msg_handler) {\n          comm.on_msg(msg_handler);\n        }\n      } else if ((plot_id in window.PyViz.kernels) && (window.PyViz.kernels[plot_id])) {\n        var comm = window.PyViz.kernels[plot_id].connectToComm(comm_id);\n        comm.open();\n        if (msg_handler) {\n          comm.onMsg = msg_handler;\n        }\n      } else if (typeof google != 'undefined' && google.colab.kernel != null) {\n        var comm_promise = google.colab.kernel.comms.open(comm_id)\n        comm_promise.then((comm) => {\n          window.PyViz.comms[comm_id] = comm;\n          if (msg_handler) {\n            var messages = comm.messages[Symbol.asyncIterator]();\n            function processIteratorResult(result) {\n              var message = result.value;\n              var content = {data: message.data};\n              var metadata = message.metadata || {comm_id};\n              var msg = {content, metadata}\n              msg_handler(msg);\n              return messages.next().then(processIteratorResult);\n            }\n            return messages.next().then(processIteratorResult);\n          }\n        })\n        var sendClosure = (data, metadata, buffers, disposeOnDone) => {\n          return comm_promise.then((comm) => {\n            comm.send(data, metadata, buffers, disposeOnDone);\n          });\n        };\n        var comm = {\n          send: sendClosure\n        };\n      }\n      window.PyViz.comms[comm_id] = comm;\n      return comm;\n    }\n    window.PyViz.comm_manager = new JupyterCommManager();\n    \n\n\nvar JS_MIME_TYPE = 'application/javascript';\nvar HTML_MIME_TYPE = 'text/html';\nvar EXEC_MIME_TYPE = 'application/vnd.holoviews_exec.v0+json';\nvar CLASS_NAME = 'output';\n\n/**\n * Render data to the DOM node\n */\nfunction render(props, node) {\n  var div = document.createElement(\"div\");\n  var script = document.createElement(\"script\");\n  node.appendChild(div);\n  node.appendChild(script);\n}\n\n/**\n * Handle when a new output is added\n */\nfunction handle_add_output(event, handle) {\n  var output_area = handle.output_area;\n  var output = handle.output;\n  if ((output.data == undefined) || (!output.data.hasOwnProperty(EXEC_MIME_TYPE))) {\n    return\n  }\n  var id = output.metadata[EXEC_MIME_TYPE][\"id\"];\n  var toinsert = output_area.element.find(\".\" + CLASS_NAME.split(' ')[0]);\n  if (id !== undefined) {\n    var nchildren = toinsert.length;\n    var html_node = toinsert[nchildren-1].children[0];\n    html_node.innerHTML = output.data[HTML_MIME_TYPE];\n    var scripts = [];\n    var nodelist = html_node.querySelectorAll(\"script\");\n    for (var i in nodelist) {\n      if (nodelist.hasOwnProperty(i)) {\n        scripts.push(nodelist[i])\n      }\n    }\n\n    scripts.forEach( function (oldScript) {\n      var newScript = document.createElement(\"script\");\n      var attrs = [];\n      var nodemap = oldScript.attributes;\n      for (var j in nodemap) {\n        if (nodemap.hasOwnProperty(j)) {\n          attrs.push(nodemap[j])\n        }\n      }\n      attrs.forEach(function(attr) { newScript.setAttribute(attr.name, attr.value) });\n      newScript.appendChild(document.createTextNode(oldScript.innerHTML));\n      oldScript.parentNode.replaceChild(newScript, oldScript);\n    });\n    if (JS_MIME_TYPE in output.data) {\n      toinsert[nchildren-1].children[1].textContent = output.data[JS_MIME_TYPE];\n    }\n    output_area._hv_plot_id = id;\n    if ((window.Bokeh !== undefined) && (id in Bokeh.index)) {\n      window.PyViz.plot_index[id] = Bokeh.index[id];\n    } else {\n      window.PyViz.plot_index[id] = null;\n    }\n  } else if (output.metadata[EXEC_MIME_TYPE][\"server_id\"] !== undefined) {\n    var bk_div = document.createElement(\"div\");\n    bk_div.innerHTML = output.data[HTML_MIME_TYPE];\n    var script_attrs = bk_div.children[0].attributes;\n    for (var i = 0; i < script_attrs.length; i++) {\n      toinsert[toinsert.length - 1].childNodes[1].setAttribute(script_attrs[i].name, script_attrs[i].value);\n    }\n    // store reference to server id on output_area\n    output_area._bokeh_server_id = output.metadata[EXEC_MIME_TYPE][\"server_id\"];\n  }\n}\n\n/**\n * Handle when an output is cleared or removed\n */\nfunction handle_clear_output(event, handle) {\n  var id = handle.cell.output_area._hv_plot_id;\n  var server_id = handle.cell.output_area._bokeh_server_id;\n  if (((id === undefined) || !(id in PyViz.plot_index)) && (server_id !== undefined)) { return; }\n  var comm = window.PyViz.comm_manager.get_client_comm(\"hv-extension-comm\", \"hv-extension-comm\", function () {});\n  if (server_id !== null) {\n    comm.send({event_type: 'server_delete', 'id': server_id});\n    return;\n  } else if (comm !== null) {\n    comm.send({event_type: 'delete', 'id': id});\n  }\n  delete PyViz.plot_index[id];\n  if ((window.Bokeh !== undefined) & (id in window.Bokeh.index)) {\n    var doc = window.Bokeh.index[id].model.document\n    doc.clear();\n    const i = window.Bokeh.documents.indexOf(doc);\n    if (i > -1) {\n      window.Bokeh.documents.splice(i, 1);\n    }\n  }\n}\n\n/**\n * Handle kernel restart event\n */\nfunction handle_kernel_cleanup(event, handle) {\n  delete PyViz.comms[\"hv-extension-comm\"];\n  window.PyViz.plot_index = {}\n}\n\n/**\n * Handle update_display_data messages\n */\nfunction handle_update_output(event, handle) {\n  handle_clear_output(event, {cell: {output_area: handle.output_area}})\n  handle_add_output(event, handle)\n}\n\nfunction register_renderer(events, OutputArea) {\n  function append_mime(data, metadata, element) {\n    // create a DOM node to render to\n    var toinsert = this.create_output_subarea(\n    metadata,\n    CLASS_NAME,\n    EXEC_MIME_TYPE\n    );\n    this.keyboard_manager.register_events(toinsert);\n    // Render to node\n    var props = {data: data, metadata: metadata[EXEC_MIME_TYPE]};\n    render(props, toinsert[0]);\n    element.append(toinsert);\n    return toinsert\n  }\n\n  events.on('output_added.OutputArea', handle_add_output);\n  events.on('output_updated.OutputArea', handle_update_output);\n  events.on('clear_output.CodeCell', handle_clear_output);\n  events.on('delete.Cell', handle_clear_output);\n  events.on('kernel_ready.Kernel', handle_kernel_cleanup);\n\n  OutputArea.prototype.register_mime_type(EXEC_MIME_TYPE, append_mime, {\n    safe: true,\n    index: 0\n  });\n}\n\nif (window.Jupyter !== undefined) {\n  try {\n    var events = require('base/js/events');\n    var OutputArea = require('notebook/js/outputarea').OutputArea;\n    if (OutputArea.prototype.mime_types().indexOf(EXEC_MIME_TYPE) == -1) {\n      register_renderer(events, OutputArea);\n    }\n  } catch(err) {\n  }\n}\n",
      "application/vnd.holoviews_load.v0+json": ""
     },
     "metadata": {},
     "output_type": "display_data"
    },
    {
     "data": {
      "application/vnd.holoviews_exec.v0+json": "",
      "text/html": [
       "<div id='4f0f7f74-2414-4a24-bca0-c607b654d393'>\n",
       "  <div id=\"dcdc1ed6-53ee-4af3-a3c5-c691149ac307\" data-root-id=\"4f0f7f74-2414-4a24-bca0-c607b654d393\" style=\"display: contents;\"></div>\n",
       "</div>\n",
       "<script type=\"application/javascript\">(function(root) {\n",
       "  var docs_json = {\"8c07a0ea-6f79-45a9-9a17-5c1852b209fb\":{\"version\":\"3.7.3\",\"title\":\"Bokeh Application\",\"roots\":[{\"type\":\"object\",\"name\":\"panel.models.browser.BrowserInfo\",\"id\":\"4f0f7f74-2414-4a24-bca0-c607b654d393\"},{\"type\":\"object\",\"name\":\"panel.models.comm_manager.CommManager\",\"id\":\"3369b9a5-94bc-42c4-afbf-4a9214f1896c\",\"attributes\":{\"plot_id\":\"4f0f7f74-2414-4a24-bca0-c607b654d393\",\"comm_id\":\"d3696eaf99a04ea79e8618a3ac7c2f54\",\"client_comm_id\":\"f44a227068304aa48d3527ba71ec1cc4\"}}],\"defs\":[{\"type\":\"model\",\"name\":\"ReactiveHTML1\"},{\"type\":\"model\",\"name\":\"FlexBox1\",\"properties\":[{\"name\":\"align_content\",\"kind\":\"Any\",\"default\":\"flex-start\"},{\"name\":\"align_items\",\"kind\":\"Any\",\"default\":\"flex-start\"},{\"name\":\"flex_direction\",\"kind\":\"Any\",\"default\":\"row\"},{\"name\":\"flex_wrap\",\"kind\":\"Any\",\"default\":\"wrap\"},{\"name\":\"gap\",\"kind\":\"Any\",\"default\":\"\"},{\"name\":\"justify_content\",\"kind\":\"Any\",\"default\":\"flex-start\"}]},{\"type\":\"model\",\"name\":\"FloatPanel1\",\"properties\":[{\"name\":\"config\",\"kind\":\"Any\",\"default\":{\"type\":\"map\"}},{\"name\":\"contained\",\"kind\":\"Any\",\"default\":true},{\"name\":\"position\",\"kind\":\"Any\",\"default\":\"right-top\"},{\"name\":\"offsetx\",\"kind\":\"Any\",\"default\":null},{\"name\":\"offsety\",\"kind\":\"Any\",\"default\":null},{\"name\":\"theme\",\"kind\":\"Any\",\"default\":\"primary\"},{\"name\":\"status\",\"kind\":\"Any\",\"default\":\"normalized\"}]},{\"type\":\"model\",\"name\":\"GridStack1\",\"properties\":[{\"name\":\"ncols\",\"kind\":\"Any\",\"default\":null},{\"name\":\"nrows\",\"kind\":\"Any\",\"default\":null},{\"name\":\"allow_resize\",\"kind\":\"Any\",\"default\":true},{\"name\":\"allow_drag\",\"kind\":\"Any\",\"default\":true},{\"name\":\"state\",\"kind\":\"Any\",\"default\":[]}]},{\"type\":\"model\",\"name\":\"drag1\",\"properties\":[{\"name\":\"slider_width\",\"kind\":\"Any\",\"default\":5},{\"name\":\"slider_color\",\"kind\":\"Any\",\"default\":\"black\"},{\"name\":\"value\",\"kind\":\"Any\",\"default\":50}]},{\"type\":\"model\",\"name\":\"click1\",\"properties\":[{\"name\":\"terminal_output\",\"kind\":\"Any\",\"default\":\"\"},{\"name\":\"debug_name\",\"kind\":\"Any\",\"default\":\"\"},{\"name\":\"clears\",\"kind\":\"Any\",\"default\":0}]},{\"type\":\"model\",\"name\":\"FastWrapper1\",\"properties\":[{\"name\":\"object\",\"kind\":\"Any\",\"default\":null},{\"name\":\"style\",\"kind\":\"Any\",\"default\":null}]},{\"type\":\"model\",\"name\":\"NotificationArea1\",\"properties\":[{\"name\":\"js_events\",\"kind\":\"Any\",\"default\":{\"type\":\"map\"}},{\"name\":\"max_notifications\",\"kind\":\"Any\",\"default\":5},{\"name\":\"notifications\",\"kind\":\"Any\",\"default\":[]},{\"name\":\"position\",\"kind\":\"Any\",\"default\":\"bottom-right\"},{\"name\":\"_clear\",\"kind\":\"Any\",\"default\":0},{\"name\":\"types\",\"kind\":\"Any\",\"default\":[{\"type\":\"map\",\"entries\":[[\"type\",\"warning\"],[\"background\",\"#ffc107\"],[\"icon\",{\"type\":\"map\",\"entries\":[[\"className\",\"fas fa-exclamation-triangle\"],[\"tagName\",\"i\"],[\"color\",\"white\"]]}]]},{\"type\":\"map\",\"entries\":[[\"type\",\"info\"],[\"background\",\"#007bff\"],[\"icon\",{\"type\":\"map\",\"entries\":[[\"className\",\"fas fa-info-circle\"],[\"tagName\",\"i\"],[\"color\",\"white\"]]}]]}]}]},{\"type\":\"model\",\"name\":\"Notification\",\"properties\":[{\"name\":\"background\",\"kind\":\"Any\",\"default\":null},{\"name\":\"duration\",\"kind\":\"Any\",\"default\":3000},{\"name\":\"icon\",\"kind\":\"Any\",\"default\":null},{\"name\":\"message\",\"kind\":\"Any\",\"default\":\"\"},{\"name\":\"notification_type\",\"kind\":\"Any\",\"default\":null},{\"name\":\"_rendered\",\"kind\":\"Any\",\"default\":false},{\"name\":\"_destroyed\",\"kind\":\"Any\",\"default\":false}]},{\"type\":\"model\",\"name\":\"TemplateActions1\",\"properties\":[{\"name\":\"open_modal\",\"kind\":\"Any\",\"default\":0},{\"name\":\"close_modal\",\"kind\":\"Any\",\"default\":0}]},{\"type\":\"model\",\"name\":\"BootstrapTemplateActions1\",\"properties\":[{\"name\":\"open_modal\",\"kind\":\"Any\",\"default\":0},{\"name\":\"close_modal\",\"kind\":\"Any\",\"default\":0}]},{\"type\":\"model\",\"name\":\"TemplateEditor1\",\"properties\":[{\"name\":\"layout\",\"kind\":\"Any\",\"default\":[]}]},{\"type\":\"model\",\"name\":\"MaterialTemplateActions1\",\"properties\":[{\"name\":\"open_modal\",\"kind\":\"Any\",\"default\":0},{\"name\":\"close_modal\",\"kind\":\"Any\",\"default\":0}]},{\"type\":\"model\",\"name\":\"ReactiveESM1\",\"properties\":[{\"name\":\"esm_constants\",\"kind\":\"Any\",\"default\":{\"type\":\"map\"}}]},{\"type\":\"model\",\"name\":\"JSComponent1\",\"properties\":[{\"name\":\"esm_constants\",\"kind\":\"Any\",\"default\":{\"type\":\"map\"}}]},{\"type\":\"model\",\"name\":\"ReactComponent1\",\"properties\":[{\"name\":\"esm_constants\",\"kind\":\"Any\",\"default\":{\"type\":\"map\"}}]},{\"type\":\"model\",\"name\":\"AnyWidgetComponent1\",\"properties\":[{\"name\":\"esm_constants\",\"kind\":\"Any\",\"default\":{\"type\":\"map\"}}]},{\"type\":\"model\",\"name\":\"request_value1\",\"properties\":[{\"name\":\"fill\",\"kind\":\"Any\",\"default\":\"none\"},{\"name\":\"_synced\",\"kind\":\"Any\",\"default\":null},{\"name\":\"_request_sync\",\"kind\":\"Any\",\"default\":0}]}]}};\n",
       "  var render_items = [{\"docid\":\"8c07a0ea-6f79-45a9-9a17-5c1852b209fb\",\"roots\":{\"4f0f7f74-2414-4a24-bca0-c607b654d393\":\"dcdc1ed6-53ee-4af3-a3c5-c691149ac307\"},\"root_ids\":[\"4f0f7f74-2414-4a24-bca0-c607b654d393\"]}];\n",
       "  var docs = Object.values(docs_json)\n",
       "  if (!docs) {\n",
       "    return\n",
       "  }\n",
       "  const py_version = docs[0].version.replace('rc', '-rc.').replace('.dev', '-dev.')\n",
       "  async function embed_document(root) {\n",
       "    var Bokeh = get_bokeh(root)\n",
       "    await Bokeh.embed.embed_items_notebook(docs_json, render_items);\n",
       "    for (const render_item of render_items) {\n",
       "      for (const root_id of render_item.root_ids) {\n",
       "\tconst id_el = document.getElementById(root_id)\n",
       "\tif (id_el.children.length && id_el.children[0].hasAttribute('data-root-id')) {\n",
       "\t  const root_el = id_el.children[0]\n",
       "\t  root_el.id = root_el.id + '-rendered'\n",
       "\t  for (const child of root_el.children) {\n",
       "            // Ensure JupyterLab does not capture keyboard shortcuts\n",
       "            // see: https://jupyterlab.readthedocs.io/en/4.1.x/extension/notebook.html#keyboard-interaction-model\n",
       "\t    child.setAttribute('data-lm-suppress-shortcuts', 'true')\n",
       "\t  }\n",
       "\t}\n",
       "      }\n",
       "    }\n",
       "  }\n",
       "  function get_bokeh(root) {\n",
       "    if (root.Bokeh === undefined) {\n",
       "      return null\n",
       "    } else if (root.Bokeh.version !== py_version) {\n",
       "      if (root.Bokeh.versions === undefined || !root.Bokeh.versions.has(py_version)) {\n",
       "\treturn null\n",
       "      }\n",
       "      return root.Bokeh.versions.get(py_version);\n",
       "    } else if (root.Bokeh.version === py_version) {\n",
       "      return root.Bokeh\n",
       "    }\n",
       "    return null\n",
       "  }\n",
       "  function is_loaded(root) {\n",
       "    var Bokeh = get_bokeh(root)\n",
       "    return (Bokeh != null && Bokeh.Panel !== undefined && ( root.Tabulator !== undefined) && ( root.Plotly !== undefined) && ( root.Tabulator !== undefined) && ( root.Plotly !== undefined))\n",
       "  }\n",
       "  if (is_loaded(root)) {\n",
       "    embed_document(root);\n",
       "  } else {\n",
       "    var attempts = 0;\n",
       "    var timer = setInterval(function(root) {\n",
       "      if (is_loaded(root)) {\n",
       "        clearInterval(timer);\n",
       "        embed_document(root);\n",
       "      } else if (document.readyState == \"complete\") {\n",
       "        attempts++;\n",
       "        if (attempts > 200) {\n",
       "          clearInterval(timer);\n",
       "\t  var Bokeh = get_bokeh(root)\n",
       "\t  if (Bokeh == null || Bokeh.Panel == null) {\n",
       "            console.warn(\"Panel: ERROR: Unable to run Panel code because Bokeh or Panel library is missing\");\n",
       "\t  } else {\n",
       "\t    console.warn(\"Panel: WARNING: Attempting to render but not all required libraries could be resolved.\")\n",
       "\t    embed_document(root)\n",
       "\t  }\n",
       "        }\n",
       "      }\n",
       "    }, 25, root)\n",
       "  }\n",
       "})(window);</script>"
      ]
     },
     "metadata": {
      "application/vnd.holoviews_exec.v0+json": {
       "id": "4f0f7f74-2414-4a24-bca0-c607b654d393"
      }
     },
     "output_type": "display_data"
    }
   ],
   "source": [
    "# a. Set up Panel extension\n",
    "pn.extension('tabulator', 'plotly', design='material', sizing_mode='stretch_width')\n",
    "\n",
    "# b. Set Plotly renderer to JupyterLab\n",
    "# pio.renderers.default = \"jupyterlab\"\n",
    "\n",
    "# c. Set MapBox-Access-Token\n",
    "MAPBOX_TOKEN = 'pk.eyJ1Ijoia3VyYW5leiIsImEiOiJjbTJmMjI0d2kwNDVxMnFzYXNldnc1N2VsIn0.t11TYpF2QBdid-hQfW8mig'"
   ]
  },
  {
   "cell_type": "markdown",
   "id": "2e94ffa0-891a-43d2-8fd1-16548c177051",
   "metadata": {},
   "source": [
    "# III. Methods"
   ]
  },
  {
   "cell_type": "markdown",
   "id": "5a7b2f25-7143-436c-b286-937191acc27b",
   "metadata": {},
   "source": [
    "### a. Country Flags : `iso2_to_flag()` & `add_country_flags()`"
   ]
  },
  {
   "cell_type": "code",
   "execution_count": 3,
   "id": "d578aac0-44d6-45f9-a340-2e7522149f64",
   "metadata": {},
   "outputs": [],
   "source": [
    "@pn.cache\n",
    "def iso2_to_flag(iso2_code):\n",
    "    \"\"\"\n",
    "    Function to convert ISO2 country code to flag emoji\n",
    "    \"\"\"\n",
    "    return chr(0x1F1E6 + ord(iso2_code[0]) - ord('A')) + chr(0x1F1E6 + ord(iso2_code[1]) - ord('A'))\n"
   ]
  },
  {
   "cell_type": "code",
   "execution_count": 4,
   "id": "be47e902-e048-4d34-825c-ce6cb4c7b476",
   "metadata": {},
   "outputs": [],
   "source": [
    "@pn.cache\n",
    "def add_country_flags(data):\n",
    "    \"\"\"\n",
    "    Add country flags to the dataset using country codes.\n",
    "    \"\"\"\n",
    "    data['Flag'] = data['Code'].apply(iso2_to_flag)\n",
    "    return data"
   ]
  },
  {
   "cell_type": "markdown",
   "id": "b0491270-fca0-49ad-bbb3-71acc8f07005",
   "metadata": {},
   "source": [
    "### b. Sort Columns : `sort_columns()`"
   ]
  },
  {
   "cell_type": "markdown",
   "id": "ddd7cd5b-4975-4989-9f84-bc062909212b",
   "metadata": {},
   "source": [
    "##### **NEW** Helper Function **!**"
   ]
  },
  {
   "cell_type": "code",
   "execution_count": 5,
   "id": "e90542a2-7b1f-49a3-8d2c-b2755b1a323f",
   "metadata": {},
   "outputs": [],
   "source": [
    "@pn.cache\n",
    "def sort_columns(data, column_order):\n",
    "    \"\"\"\n",
    "    Sort the DataFrame columns in the specified order.\n",
    "    \"\"\"\n",
    "    return data[column_order]"
   ]
  },
  {
   "cell_type": "markdown",
   "id": "3837a092-aaa8-46f6-b8f8-227e5cd7ffbc",
   "metadata": {},
   "source": [
    "### c. Load Data : `load_data()`"
   ]
  },
  {
   "cell_type": "markdown",
   "id": "0fbc2e28-20c6-4161-b6f0-452fabff09b2",
   "metadata": {},
   "source": [
    "##### **NEW** Combined Loading Method **!**"
   ]
  },
  {
   "cell_type": "code",
   "execution_count": 6,
   "id": "13cfd083-5a0c-4dab-8151-a991dbf5530a",
   "metadata": {},
   "outputs": [],
   "source": [
    "def load_data():\n",
    "    \"\"\"Load energy data and European geojson data.\"\"\"\n",
    "    data = pd.read_csv('./data/nrg_ind_ren_linear.csv')\n",
    "    europe_gdf = gpd.read_file(\"./geo/europe.geojson\")\n",
    "\n",
    "    merged_data = europe_gdf.merge(data, left_on='CNTR_ID', right_on='geo')\n",
    "\n",
    "    merged_data.rename(columns={\n",
    "        'nrg_bal': 'Energy Type', 'TIME_PERIOD': 'Year',\n",
    "        'OBS_VALUE': 'Renewable Percentage', 'geo': 'Code',\n",
    "        'NAME_ENGL': 'Country'\n",
    "    }, inplace=True)\n",
    "\n",
    "    energy_type_map = {\n",
    "        'REN': 'Renewable Energy Total',\n",
    "        'REN_ELC': 'Renewable Electricity',\n",
    "        'REN_HEAT_CL': 'Renewable Heating and Cooling',\n",
    "        'REN_TRA': 'Renewable Energy in Transport'\n",
    "    }\n",
    "    merged_data['Energy Type'] = merged_data['Energy Type'].replace(energy_type_map)\n",
    "\n",
    "    merged_data.drop(columns=['LAST UPDATE', 'freq', 'unit', 'OBS_FLAG'], inplace=True)\n",
    "    merged_data[['Year', 'Renewable Percentage']] = merged_data[['Year', 'Renewable Percentage']].apply(pd.to_numeric)\n",
    "    merged_data['Renewable Percentage'] = merged_data['Renewable Percentage'].round(1)\n",
    "    \n",
    "    merged_data['Flag'] = merged_data['Code'].apply(iso2_to_flag)\n",
    "    merged_data = add_country_flags(merged_data)\n",
    "\n",
    "    final_columns = ['Code', 'Flag', 'Country', 'Energy Type', 'Renewable Percentage', 'Year', 'geometry']\n",
    "    final_data = sort_columns(merged_data, final_columns)\n",
    "    \n",
    "    return final_data"
   ]
  },
  {
   "cell_type": "markdown",
   "id": "d568aff8-a4a0-4923-aea3-78eadbe40a98",
   "metadata": {},
   "source": [
    "### Test"
   ]
  },
  {
   "cell_type": "code",
   "execution_count": 7,
   "id": "f99ec06d-9c9c-47f9-9fe0-06ef3edb1321",
   "metadata": {},
   "outputs": [],
   "source": [
    "# load_data()"
   ]
  },
  {
   "cell_type": "markdown",
   "id": "26e7bce8-78b6-4195-b3d9-0289e3991662",
   "metadata": {
    "jp-MarkdownHeadingCollapsed": true
   },
   "source": [
    "### Substeps (for Debugging)"
   ]
  },
  {
   "cell_type": "markdown",
   "id": "5725ac39-1e44-41ea-a26c-08678cd58849",
   "metadata": {
    "jp-MarkdownHeadingCollapsed": true
   },
   "source": [
    "##### [Show/Hide Code: 1] - **Load**"
   ]
  },
  {
   "cell_type": "code",
   "execution_count": 8,
   "id": "1222676b-6fad-4c78-805e-fbc774dc6ee5",
   "metadata": {},
   "outputs": [],
   "source": [
    "# # Load data\n",
    "# data = pd.read_csv('./data/nrg_ind_ren_linear.csv')\n",
    "# europe_gdf = gpd.read_file(\"./geo/europe.geojson\")\n",
    "\n",
    "# # Display data\n",
    "# data.head()\n",
    "# europe_gdf.head()"
   ]
  },
  {
   "cell_type": "markdown",
   "id": "adc8d4e3-336f-4180-acbd-d140055ff0aa",
   "metadata": {
    "jp-MarkdownHeadingCollapsed": true
   },
   "source": [
    "##### [Show/Hide Code: 2] - **Merge**"
   ]
  },
  {
   "cell_type": "code",
   "execution_count": 9,
   "id": "805192be-7498-4f27-b450-5fa05b530910",
   "metadata": {},
   "outputs": [],
   "source": [
    "# # Merge data\n",
    "# merged_data = europe_gdf.merge(data, left_on='CNTR_ID', right_on='geo')\n",
    "\n",
    "# # Display merged data\n",
    "# merged_data.head()"
   ]
  },
  {
   "cell_type": "markdown",
   "id": "1553c547-89bf-42c6-b0e3-76ad3054de10",
   "metadata": {
    "jp-MarkdownHeadingCollapsed": true
   },
   "source": [
    "##### [Show/Hide Code: 3.a] - **Rename Columns**"
   ]
  },
  {
   "cell_type": "code",
   "execution_count": 10,
   "id": "185dd2f1-2c0e-4cf0-9921-cf1d34045f71",
   "metadata": {},
   "outputs": [],
   "source": [
    "# merged_data.rename(columns={\n",
    "#     'nrg_bal': 'Energy Type', \n",
    "#     'TIME_PERIOD': 'Year',\n",
    "#     'OBS_VALUE': 'Renewable Percentage', \n",
    "#     'geo': 'Code',\n",
    "#     'NAME_ENGL': 'Country'\n",
    "# }, inplace=True)"
   ]
  },
  {
   "cell_type": "markdown",
   "id": "9a3b24a1-9c88-4882-b939-3d5f52ebe3a9",
   "metadata": {
    "jp-MarkdownHeadingCollapsed": true
   },
   "source": [
    "##### [Show/Hide Code: 3.b] - **Rename Entries**"
   ]
  },
  {
   "cell_type": "code",
   "execution_count": 11,
   "id": "b6caf6bc-2923-49e6-b49f-04027c8ea310",
   "metadata": {},
   "outputs": [],
   "source": [
    "# energy_type_map = {\n",
    "#     'REN': 'Renewable Energy Total',\n",
    "#     'REN_ELC': 'Renewable Electricity',\n",
    "#     'REN_HEAT_CL': 'Renewable Heating and Cooling',\n",
    "#     'REN_TRA': 'Renewable Energy in Transport'\n",
    "# }"
   ]
  },
  {
   "cell_type": "code",
   "execution_count": 12,
   "id": "4fad8960-c65c-4a72-8355-721caf42662a",
   "metadata": {},
   "outputs": [],
   "source": [
    "# merged_data['Energy Type'] = merged_data['Energy Type'].replace(energy_type_map)"
   ]
  },
  {
   "cell_type": "markdown",
   "id": "4c2ecd59-0c6d-47a6-9964-1a0e3e42f03f",
   "metadata": {
    "jp-MarkdownHeadingCollapsed": true
   },
   "source": [
    "##### [Show/Hide Code: 4] - **Drop Columns**"
   ]
  },
  {
   "cell_type": "code",
   "execution_count": 13,
   "id": "3008ece8-007e-4b09-ac0c-e7f01dc523c8",
   "metadata": {},
   "outputs": [],
   "source": [
    " # merged_data.drop(columns=['LAST UPDATE', 'freq', 'unit', 'OBS_FLAG'], inplace=True)"
   ]
  },
  {
   "cell_type": "markdown",
   "id": "f07b930a-97d2-4647-a9ff-265d6fedd64d",
   "metadata": {
    "jp-MarkdownHeadingCollapsed": true
   },
   "source": [
    "##### [Show/Hide Code: 5] - **Number Operations**"
   ]
  },
  {
   "cell_type": "code",
   "execution_count": 14,
   "id": "53505c4a-51cb-4b37-a088-6a97c3181efd",
   "metadata": {},
   "outputs": [],
   "source": [
    "# merged_data[['Year', 'Renewable Percentage']] = merged_data[['Year', 'Renewable Percentage']].apply(pd.to_numeric)\n",
    "# merged_data['Renewable Percentage'] = merged_data['Renewable Percentage'].round(1)"
   ]
  },
  {
   "cell_type": "markdown",
   "id": "f6bbf8a8-e7fa-4a98-8704-9f3048560d5b",
   "metadata": {
    "jp-MarkdownHeadingCollapsed": true
   },
   "source": [
    "##### [Show/Hide Code: 6] - **Country Flags**"
   ]
  },
  {
   "cell_type": "code",
   "execution_count": 15,
   "id": "a26f8ff8-07dc-4e8c-8d27-2058e135c5c5",
   "metadata": {},
   "outputs": [],
   "source": [
    "# merged_data['Flag'] = merged_data['Code'].apply(iso2_to_flag)\n",
    "# merged_data = add_country_flags(merged_data)"
   ]
  },
  {
   "cell_type": "markdown",
   "id": "1b94d900-5d0b-457c-af1d-5463e67927eb",
   "metadata": {
    "jp-MarkdownHeadingCollapsed": true
   },
   "source": [
    "##### [Show/Hide Code: 7] - **Order Columns**"
   ]
  },
  {
   "cell_type": "code",
   "execution_count": 16,
   "id": "bd23b96d-286a-4807-b3fd-5d12307f577c",
   "metadata": {},
   "outputs": [],
   "source": [
    "# final_columns = [\n",
    "#     'Code', 'Flag', 'Country', 'Energy Type', 'Renewable Percentage', 'Year', 'geometry'\n",
    "# ]"
   ]
  },
  {
   "cell_type": "markdown",
   "id": "b09012e2-1b6f-4dfb-b582-4eba587023dc",
   "metadata": {},
   "source": [
    "### d. Normalize Color Scale : `get_plotly_color()` "
   ]
  },
  {
   "cell_type": "code",
   "execution_count": 17,
   "id": "aba49543-fd7c-4a6a-82d6-4b4863987bad",
   "metadata": {},
   "outputs": [],
   "source": [
    "def get_plotly_color(value, vmin, vmax):\n",
    "    \"\"\" Normalize a value to the Viridis colormap range. \"\"\"\n",
    "    normalized_value = (value - vmin) / (vmax - vmin)  # Scale between 0 and 1\n",
    "    return pc.sample_colorscale(\"viridis\", normalized_value)[0]  # Get color"
   ]
  },
  {
   "cell_type": "markdown",
   "id": "7d3f8ae9-8020-4eed-a5d7-4bacad4865ab",
   "metadata": {},
   "source": [
    "## IV. Data Filters"
   ]
  },
  {
   "cell_type": "code",
   "execution_count": 18,
   "id": "1596e87c-4aaf-4c98-8c05-7933f2111b1f",
   "metadata": {},
   "outputs": [],
   "source": [
    "# eu_countries = {\"AT\", \"BE\", \"BG\", \"HR\", \"CY\", \"CZ\", \"DK\", \"EE\", \"FI\", \"FR\", \"DE\", \"EL\", \"HU\", \"IE\", \"IT\", \"LV\", \"LT\",\n",
    "#                 \"LU\", \"MT\", \"NL\", \"PL\", \"PT\", \"RO\", \"SK\", \"SI\", \"ES\", \"SE\"}"
   ]
  },
  {
   "cell_type": "code",
   "execution_count": 19,
   "id": "0629297e-c927-43f6-9ae0-3255520ba6c4",
   "metadata": {},
   "outputs": [],
   "source": [
    "# @pn.cache\n",
    "# def filter_by_country_codes(dataset, country_codes):\n",
    "#     \"\"\"\n",
    "#     Filters the dataset based on a list of country codes.\n",
    "#     \"\"\"\n",
    "#     return dataset[dataset['Country Code'].isin(country_codes)]"
   ]
  },
  {
   "cell_type": "code",
   "execution_count": 20,
   "id": "512840d9-fe91-4f21-871a-7d36c998efe2",
   "metadata": {},
   "outputs": [],
   "source": [
    "# Filter by Year & Country : for testing/initial display\n",
    "selected_year = 2022 # \n",
    "selected_country = \"Germany\""
   ]
  },
  {
   "cell_type": "code",
   "execution_count": 21,
   "id": "87156d0a-6365-4160-872d-0a231182b7a5",
   "metadata": {},
   "outputs": [],
   "source": [
    "def filter_data(data):\n",
    "    \"\"\"Filter and structure dataset for visualization.\"\"\"\n",
    "    eu_countries = {\"AT\", \"BE\", \"BG\", \"HR\", \"CY\", \"CZ\", \"DK\", \"EE\", \"FI\", \"FR\", \"DE\", \"GR\", \"HU\", \"IE\", \"IT\", \"LV\", \"LT\",\n",
    "                    \"LU\", \"MT\", \"NL\", \"PL\", \"PT\", \"RO\", \"SK\", \"SI\", \"ES\", \"SE\"}\n",
    "    df_renewable = data[(data['Energy Type'] == 'Renewable Energy Total') & data['Code'].isin(eu_countries)]\n",
    "    df_eu_total = df_renewable.groupby('Year', as_index=False)['Renewable Percentage'].mean().round(1)\n",
    "    df_year = df_renewable[df_renewable['Year'] == selected_year]\n",
    "    df_country = df_renewable[df_renewable['Country'] == selected_country]\n",
    "    return df_renewable, df_eu_total, df_year, df_country"
   ]
  },
  {
   "cell_type": "markdown",
   "id": "af43532c-2cd1-4753-be47-2c83d067f19d",
   "metadata": {},
   "source": [
    "### Test"
   ]
  },
  {
   "cell_type": "code",
   "execution_count": 22,
   "id": "a3d576be-fdcd-4b60-a430-f4ecd81c7e1f",
   "metadata": {},
   "outputs": [],
   "source": [
    "# Return Data\n",
    "# data = load_data()"
   ]
  },
  {
   "cell_type": "code",
   "execution_count": 23,
   "id": "ffef06a0-0702-4fc0-8c7c-6195446dee2c",
   "metadata": {},
   "outputs": [],
   "source": [
    "# filtered_data = filter_data(data)"
   ]
  },
  {
   "cell_type": "code",
   "execution_count": 24,
   "id": "a14d82c8-0763-40c4-809e-604e649681c4",
   "metadata": {},
   "outputs": [],
   "source": [
    "# data.info()"
   ]
  },
  {
   "cell_type": "code",
   "execution_count": 25,
   "id": "898abd9c-401c-455b-9d86-aa8f06b33057",
   "metadata": {},
   "outputs": [],
   "source": [
    "# df_renewable"
   ]
  },
  {
   "cell_type": "code",
   "execution_count": 26,
   "id": "78bceb25-72bf-46e7-96fd-db082d9096f4",
   "metadata": {},
   "outputs": [],
   "source": [
    "# df_eu_total"
   ]
  },
  {
   "cell_type": "code",
   "execution_count": 27,
   "id": "57478324-668d-4642-ab2a-3635ce65fd3d",
   "metadata": {},
   "outputs": [],
   "source": [
    "# df_year"
   ]
  },
  {
   "cell_type": "code",
   "execution_count": 28,
   "id": "4fc03a01-c693-43ce-b4a0-ceda5693d2ec",
   "metadata": {},
   "outputs": [],
   "source": [
    "# df_country"
   ]
  },
  {
   "cell_type": "markdown",
   "id": "7944185f-e155-4c3a-b635-c0cac051e77a",
   "metadata": {},
   "source": [
    "### Substeps (for Debugging)"
   ]
  },
  {
   "cell_type": "markdown",
   "id": "92ee8952-8f4d-4da4-9657-c14e6b75a3cb",
   "metadata": {},
   "source": [
    "##### **Step 1:** Filter by EU countries [Show/Hide Code]"
   ]
  },
  {
   "cell_type": "code",
   "execution_count": 29,
   "id": "aab5976b-c601-4f82-8d8f-a0b4f54dd5a2",
   "metadata": {},
   "outputs": [],
   "source": [
    "# # Step 1: Filter by EU countries\n",
    "# eu_countries = [\n",
    "#     \"AT\", \"BE\", \"BG\", \"HR\", \"CY\", \"CZ\", \"DK\", \"EE\", \"FI\", \"FR\", \"DE\", \"GR\", \"HU\", \"IE\", \"IT\", \"LV\", \"LT\", \n",
    "#     \"LU\", \"MT\", \"NL\", \"PL\", \"PT\", \"RO\", \"SK\", \"SI\", \"ES\", \"SE\"\n",
    "# ]\n",
    "\n",
    "# eu_data = merged_data[data['Code'].isin(eu_countries)]"
   ]
  },
  {
   "cell_type": "markdown",
   "id": "32888d75-eadb-4e87-94eb-fae7ba94d41e",
   "metadata": {},
   "source": [
    "##### **Step 2:** Filter by Energy Type [Show/Hide Code]"
   ]
  },
  {
   "cell_type": "code",
   "execution_count": 30,
   "id": "a15ce721-2690-4bdc-bc5a-f29cb52cfca0",
   "metadata": {},
   "outputs": [],
   "source": [
    "# # Step 2: Filter by Energy Type \n",
    "# df_renewable = data[\n",
    "#                     (data['Energy Type'] == 'Renewable Energy Total') &\n",
    "#                     (data['Code'].isin(eu_countries))]\n"
   ]
  },
  {
   "cell_type": "markdown",
   "id": "d4a82411-0735-4f03-bcf1-e62be31c8df2",
   "metadata": {},
   "source": [
    "##### **Step 3:** **EU Total** Average Renewable Energy Percentage[Show/Hide Code]"
   ]
  },
  {
   "cell_type": "code",
   "execution_count": 31,
   "id": "36d9ba2f-3427-452c-acc7-9e7309959c90",
   "metadata": {},
   "outputs": [],
   "source": [
    "# # Step 3: EU Total Average Renewable Energy Percentage\n",
    "# # - Group by year and calculate the average renewable energy percentage for the EU total\n",
    "# df_eu_total = df_renewable.groupby('Year', as_index=False)['Renewable Percentage'].mean()"
   ]
  },
  {
   "cell_type": "markdown",
   "id": "8e93fc05-d6bc-4b52-a95e-75cc6143e5ea",
   "metadata": {},
   "source": [
    "##### **Step 4:** Filter by Year & Country[Show/Hide Code]"
   ]
  },
  {
   "cell_type": "code",
   "execution_count": 32,
   "id": "730d6104-99c6-4359-9a1e-fe92166ad263",
   "metadata": {},
   "outputs": [],
   "source": [
    "# # Step 4: Filter by Year & Country\n",
    "# df_year = df_renewable[df_renewable['Year'] == selected_year]\n",
    "# df_country = df_renewable[df_renewable['Country'] == selected_country]"
   ]
  },
  {
   "cell_type": "markdown",
   "id": "7dfbd80e-edf0-4ae7-b7aa-8d74d10f0a69",
   "metadata": {},
   "source": [
    "##### **Test** [Show/Hide Code]"
   ]
  },
  {
   "cell_type": "code",
   "execution_count": 33,
   "id": "12f835d6-7ea3-438e-a0cf-457de4b15d8d",
   "metadata": {},
   "outputs": [],
   "source": [
    "# eu_data.head()"
   ]
  },
  {
   "cell_type": "markdown",
   "id": "8471735e-55b2-4370-b38e-b1533a451ebd",
   "metadata": {},
   "source": [
    "# IV. Main : Load and preprocess data"
   ]
  },
  {
   "cell_type": "code",
   "execution_count": 34,
   "id": "bd13fe86-c0c5-4fa3-9dc8-b87109324684",
   "metadata": {},
   "outputs": [],
   "source": [
    "data = load_data()\n",
    "df_renewable, df_eu_total, df_year, df_country = filter_data(data)\n",
    "selected_year, selected_country = 2022, \"Germany\"\n",
    "df_year = df_renewable[df_renewable['Year'] == selected_year]\n",
    "df_country = df_renewable[df_renewable['Country'] == selected_country]\n",
    "\n",
    "# Get min and max energy values for consistent scaling\n",
    "vmin = df_renewable[\"Renewable Percentage\"].min()\n",
    "vmax = df_renewable[\"Renewable Percentage\"].max()\n",
    "\n",
    "# Apply color normalization\n",
    "# df_renewable[\"color\"] = df_renewable[\"Renewable Percentage\"].apply(lambda x: get_scaled_color(x, vmin, vmax))\n",
    "# df_renewable.loc[:, \"color\"] = df_renewable[\"Renewable Percentage\"].apply(lambda x: get_plotly_color(x, vmin, vmax))\n",
    "df_renewable = df_renewable.copy()  # Creates a new independent DataFrame\n",
    "df_renewable[\"color\"] = df_renewable[\"Renewable Percentage\"].apply(lambda x: get_plotly_color(x, vmin, vmax))"
   ]
  },
  {
   "cell_type": "markdown",
   "id": "ec0facc1-01ab-4c47-9d20-a494345ace23",
   "metadata": {},
   "source": [
    "# V. Dashboard"
   ]
  },
  {
   "cell_type": "markdown",
   "id": "0aca1beb-0404-47dc-a961-da87e1bcfa49",
   "metadata": {},
   "source": [
    "### a. Input Widgets : `year_slider`& `country_selection`"
   ]
  },
  {
   "cell_type": "code",
   "execution_count": 35,
   "id": "802361b2-7eb8-4cd0-a3d8-15efa55a5b80",
   "metadata": {},
   "outputs": [],
   "source": [
    "# # Dynamically determine year range\n",
    "# start_year = df_renewable['Year'].min()\n",
    "# end_year = df_renewable['Year'].max()"
   ]
  },
  {
   "cell_type": "code",
   "execution_count": 36,
   "id": "29a2af75-a268-432c-8130-280435b013e5",
   "metadata": {},
   "outputs": [],
   "source": [
    "# # Map countries to flags\n",
    "# country_flag_map = dict(zip(df_renewable['Country'], df_renewable['Flag']))\n",
    "\n",
    "# # Create country selection widget with country names only\n",
    "# unique_countries = sorted(country_flag_map.keys())"
   ]
  },
  {
   "cell_type": "code",
   "execution_count": 37,
   "id": "c62792e1-d87c-4f5a-8a8e-452d8454b783",
   "metadata": {},
   "outputs": [],
   "source": [
    "# Widgets\n",
    "year_slider = pn.widgets.IntSlider(name='Year', start=2004, end=2022, step=1, value=selected_year)\n",
    "country_selection = pn.widgets.Select(name='Country', options=df_renewable['Country'].unique().tolist(), value=selected_country)"
   ]
  },
  {
   "cell_type": "markdown",
   "id": "eb06d03d-5a3a-4c41-bef3-39907a06a97d",
   "metadata": {},
   "source": [
    "### e. Create Map : `create_chloropleth_map()` "
   ]
  },
  {
   "cell_type": "code",
   "execution_count": 38,
   "id": "6a31bc13-b404-4c73-a5a1-b0f8c1c44f6f",
   "metadata": {},
   "outputs": [],
   "source": [
    "@pn.cache\n",
    "def create_choropleth_map(df_year):\n",
    "    \"\"\"Generate a Choropleth map of renewable energy percentages.\"\"\"\n",
    "\n",
    "    # # Map EU total average to a color in the Viridis scale\n",
    "    # eu_total_avg = df_year['Renewable Percentage'].mean()\n",
    "    # scaled_color = get_scaled_color(eu_total_avg)\n",
    "    \n",
    "    fig = go.Figure(go.Choroplethmapbox(\n",
    "        geojson=json.load(open('./geo/europe.geojson')),\n",
    "        locations=df_year['Code'],\n",
    "        z=df_year['Renewable Percentage'],\n",
    "        colorscale=\"Viridis\",\n",
    "        marker_opacity=0.8, marker_line_width=0.5,\n",
    "        featureidkey=\"properties.CNTR_ID\"\n",
    "    ))\n",
    "    fig.update_layout(mapbox_accesstoken=MAPBOX_TOKEN, mapbox_style=\"carto-positron\", mapbox_zoom=3,\n",
    "                      mapbox_center={\"lat\": 54, \"lon\": 15}, margin={\"r\": 0, \"t\": 0, \"l\": 0, \"b\": 0})\n",
    "    return fig"
   ]
  },
  {
   "cell_type": "code",
   "execution_count": 39,
   "id": "b1e24db5-e1a1-4005-b28e-debcbba03fe5",
   "metadata": {},
   "outputs": [],
   "source": [
    "# Dynamic data update\n",
    "@pn.depends(year_slider.param.value)\n",
    "def update_map(year):\n",
    "    filtered_df = df_renewable[df_renewable['Year'] == year]\n",
    "    fig = create_choropleth_map()\n",
    "    fig.data[0].update(\n",
    "        locations=filtered_df['Country Code'],\n",
    "        z=filtered_df['Renewable Percentage'],\n",
    "        hovertext=filtered_df['Renewable Percentage']\n",
    "    )\n",
    "    return pn.pane.Plotly(fig)"
   ]
  },
  {
   "cell_type": "markdown",
   "id": "00fb79b7-d9f9-4bf8-99fa-9850b602bc41",
   "metadata": {},
   "source": [
    "##### [Show/Hide Code] - **Map**"
   ]
  },
  {
   "cell_type": "code",
   "execution_count": 40,
   "id": "f28a1854-a20c-489a-aff4-716757010e3a",
   "metadata": {},
   "outputs": [],
   "source": [
    "# @pn.cache\n",
    "# # Create Choropleth map function\n",
    "# def create_choropleth_map(df_year):\n",
    "#     fig_map = go.Figure(go.Choroplethmapbox(\n",
    "#         geojson=europe_map,\n",
    "#         locations=df_year['Code'],\n",
    "#         z=df_year['Renewable Percentage'],\n",
    "#         colorscale=\"Viridis\",\n",
    "#         zmin=0, zmax=100,\n",
    "#         marker_opacity=0.8, marker_line_width=0.5,\n",
    "#         featureidkey=\"properties.CNTR_ID\",\n",
    "#         hoverinfo='location+z', hovertext=df_year['Renewable Percentage']\n",
    "#     ))\n",
    "    \n",
    "#     fig_map.update_layout(\n",
    "#         mapbox_accesstoken=mapbox_token,\n",
    "#         mapbox_style=\"carto-positron\",\n",
    "#         mapbox_zoom=3,\n",
    "#         mapbox_center={\"lat\": 54, \"lon\": 15},\n",
    "#         title=\"Renewable Energy as Percentage by Country in 2022\",\n",
    "#         margin={\"r\": 0, \"t\": 0, \"l\": 0, \"b\": 0},\n",
    "#         geo=dict(scope='europe', showlakes=False)\n",
    "#     )\n",
    "#     return fig_map"
   ]
  },
  {
   "cell_type": "markdown",
   "id": "311cbb08-ad16-4dc9-8087-b533f2c85c12",
   "metadata": {},
   "source": [
    "## e. Create Charts : `create_bar_chart year()` & `create_bar_chart_country()` "
   ]
  },
  {
   "cell_type": "markdown",
   "id": "61dfb121-3fc9-4866-8b6f-cf9c263f2e3c",
   "metadata": {},
   "source": [
    "##### [Show/Hide Code] - **Year Chart**"
   ]
  },
  {
   "cell_type": "code",
   "execution_count": 72,
   "id": "cca95005-4832-4d7a-8717-454e6b590b31",
   "metadata": {},
   "outputs": [],
   "source": [
    "import plotly.express as px\n",
    "from plotly.colors import sample_colorscale\n",
    "\n",
    "def get_scaled_color(value, vmin=0, vmax=100):\n",
    "    \"\"\"Get a color from the Viridis color scale based on the scaled value.\"\"\"\n",
    "    norm = (value - vmin) / (vmax - vmin)\n",
    "    color = px.colors.sample_colorscale(\"Viridis\", [norm])[0]\n",
    "    return color\n",
    "\n",
    "# Create bar chart by year for all countries\n",
    "@pn.cache\n",
    "@pn.depends(year_slider.param.value)\n",
    "def create_bar_chart_year(df_year, year):\n",
    "    # Sort dataframe by renewable percentage in ascending order\n",
    "    df_year = df_year.sort_values(by='Renewable Percentage')\n",
    "\n",
    "    # # Calculate EU total average renewable percentage for 2022\n",
    "    eu_total_avg = df_year['Renewable Percentage'].mean()\n",
    "    \n",
    "    # # # Map EU total average to a color in the Viridis scale\n",
    "    # scaled_color = get_scaled_color(eu_total_avg)\n",
    "    color_scale = px.colors.sequential.Viridis\n",
    "    normalized_avg = eu_total_avg / 100  # Normalize average to a 0-1 range\n",
    "    scaled_color = sample_colorscale(color_scale, normalized_avg)[0]\n",
    "    \n",
    "    # Create bar trace (main layer)\n",
    "    bar_trace = go.Bar(\n",
    "        x=df_year['Country'],\n",
    "        y=df_year['Renewable Percentage'],\n",
    "        marker=dict(\n",
    "            color=df_year['Renewable Percentage'],\n",
    "            coloraxis='coloraxis',  # Link to coloraxis\n",
    "        ),\n",
    "        name=\"\",  # Fix to hide trace info\n",
    "        hovertemplate=\"Country: %{customdata[0]}\"\n",
    "                      \"<b>%{customdata[1]}</b><br>\"\n",
    "                      \"Renewable Percentage: <b>%{y:.1f}%</b>\",\n",
    "        customdata=df_year[['Flag', 'Country']].values,  # Attach custom data\n",
    "        showlegend=False,\n",
    "    )\n",
    "    \n",
    "    # Add scatter trace for EU Total Average (border layer)\n",
    "    scatter_trace_border = go.Scatter(\n",
    "        x=df_year['Country'],  # Use all countries to make the line span across\n",
    "        y=[eu_total_avg] * len(df_year),  # Duplicate average value for each country\n",
    "        mode=\"lines\",\n",
    "        line=dict(dash=\"solid\", color=\"rgba(255, 255, 255, 0.7)\", width=4),\n",
    "        hoverinfo=\"skip\",  # Suppress hover for border layer\n",
    "        showlegend=False,\n",
    "    )\n",
    "    \n",
    "    # Add scatter trace for EU Total Average (main layer)\n",
    "    scatter_trace = go.Scatter(\n",
    "        x=df_year['Country'],  # Use all countries to make the line span across\n",
    "        y=[eu_total_avg] * len(df_year),  # Duplicate average value for each country\n",
    "        mode=\"lines\",\n",
    "        line=dict(dash=\"solid\", color=scaled_color, width=2),\n",
    "        hovertemplate=\"🇪🇺 EU Total Average:<b> %{y:.1f}%</b>\",\n",
    "        name=\"\",  # Fix to suppress showing trace info\n",
    "        showlegend=False,\n",
    "    )\n",
    "\n",
    "    # Create figure\n",
    "    fig = go.Figure(data=[bar_trace, scatter_trace_border, scatter_trace])\n",
    "\n",
    "    # Update layout\n",
    "    fig.update_layout(\n",
    "        title=f\"Renewable Energy Percentage by Country in {year}\",\n",
    "        xaxis=dict(title=None),\n",
    "        yaxis=dict(title=\"Renewable Energy (%)\"),\n",
    "        coloraxis=dict(  # Define coloraxis for color bar\n",
    "            colorscale='Viridis',\n",
    "            cmin=0,\n",
    "            cmax=100,\n",
    "            colorbar=dict(\n",
    "                orientation=\"v\",\n",
    "                title=None,\n",
    "                tickvals=[0, 20, 40, 60, 80, 100],\n",
    "                ticktext=[\"0%\", \"20%\", \"40%\", \"60%\", \"80%\", \"100%\"],\n",
    "            ),\n",
    "        ),\n",
    "        margin={\"t\": 50, \"b\": 50, \"l\": 50, \"r\": 50},\n",
    "        height=450,\n",
    "    )\n",
    "\n",
    "    return fig"
   ]
  },
  {
   "cell_type": "code",
   "execution_count": 73,
   "id": "b61e54c2-bc90-4ddc-93de-3d58322b4c40",
   "metadata": {},
   "outputs": [],
   "source": [
    "# create_bar_chart_year(df_year, selected_year)"
   ]
  },
  {
   "cell_type": "markdown",
   "id": "409fdb22-35f0-4156-ac1b-56495016996b",
   "metadata": {},
   "source": [
    "##### [Show/Hide Code] - **Country Chart**"
   ]
  },
  {
   "cell_type": "code",
   "execution_count": 74,
   "id": "d3773365-f837-47b4-af43-05229b0c7352",
   "metadata": {},
   "outputs": [],
   "source": [
    "import plotly.express as px\n",
    "# Create Country Chart\n",
    "@pn.cache\n",
    "@pn.depends(country_selection.param.value)\n",
    "def create_bar_chart_country(df_eu_total, df_country, country):\n",
    "\n",
    "    def get_scaled_color(value, vmin=0, vmax=100):\n",
    "        \"\"\"Scale the color based on the renewable percentage.\"\"\"\n",
    "        normalized_value = (value - vmin) / (vmax - vmin)\n",
    "        color_scale = px.colors.sequential.Viridis\n",
    "        color = px.colors.sample_colorscale(color_scale, [normalized_value])[0]\n",
    "        return color\n",
    "    \n",
    "    # Calculate the average renewable energy percentage for all years (used for annotation)\n",
    "    eu_total_avg = df_eu_total['Renewable Percentage'].mean()\n",
    "    \n",
    "    # # Map EU total average to a color in the Viridis scale\n",
    "    scaled_color = get_scaled_color(eu_total_avg)\n",
    "    color_scale = px.colors.sequential.Viridis\n",
    "    normalized_avg = eu_total_avg / 100  # Normalize average to a 0-1 range\n",
    "    scaled_color = px.colors.sample_colorscale(color_scale, normalized_avg)[0]\n",
    "\n",
    "    # Create the figure with Plotly\n",
    "    fig = go.Figure()\n",
    "\n",
    "    # Add the line trace for EU total renewable energy percentage over the years\n",
    "    fig.add_trace(go.Scatter(\n",
    "        x=df_eu_total['Year'], \n",
    "        y=df_eu_total['Renewable Percentage'], \n",
    "        mode='lines+markers',\n",
    "        line=dict(color=scaled_color, width=3),\n",
    "        marker=dict(\n",
    "            size=6,\n",
    "            color=df_eu_total['Renewable Percentage'],  # Map the renewable percentage to color\n",
    "            colorscale='Viridis',\n",
    "            coloraxis=\"coloraxis\",\n",
    "        ),\n",
    "        hovertemplate=\"🇪🇺 %{x}: <b>%{y:.1f}%</b>\",\n",
    "        name=\"EU Total Average\",\n",
    "    ))\n",
    "\n",
    "    # Add the bar trace for the selected country's renewable energy percentage\n",
    "    fig.add_trace(go.Bar(\n",
    "        x=df_country['Year'], \n",
    "        y=df_country['Renewable Percentage'],\n",
    "        marker=dict(\n",
    "            color=df_country['Renewable Percentage'],  # Map the renewable percentage to color\n",
    "            colorscale='Viridis',\n",
    "            coloraxis=\"coloraxis\",\n",
    "        ),\n",
    "        customdata=df_country[['Flag', 'Country']].values,  # Attach custom data\n",
    "        hovertemplate=\"Country: %{customdata[0]} \"\n",
    "                      \"<b>%{customdata[1]}</b><br>\"\n",
    "                      \"Year: <b>%{x}</b><br>\"\n",
    "                      \"Renewable Percentage: <b>%{y:.1f}%</b>\",\n",
    "        name=\"\",\n",
    "        showlegend=False,\n",
    "    ))\n",
    "\n",
    "    # Define the layout with legend at the bottom\n",
    "    fig.update_layout(\n",
    "        title=f\"Renewable Energy Percentage ({country}, 2004-2022)\",\n",
    "        xaxis=dict(\n",
    "            title=\"Year\",\n",
    "            showgrid=False,\n",
    "            showline=True,\n",
    "            tickmode=\"linear\",\n",
    "            tick0=2005,\n",
    "            dtick=5,\n",
    "            range=[2003.5, 2022.5],\n",
    "        ),\n",
    "        yaxis=dict(\n",
    "            title=\"Renewable Energy (%)\",\n",
    "        ),\n",
    "        coloraxis=dict(\n",
    "            colorscale='Viridis',\n",
    "            cmin=0,\n",
    "            cmax=100,\n",
    "            colorbar=dict(\n",
    "                orientation=\"v\",\n",
    "                tickvals=[0, 20, 40, 60, 80, 100],\n",
    "                ticktext=[\"0%\", \"20%\", \"40%\", \"60%\", \"80%\", \"100%\"],\n",
    "            ),\n",
    "        ),\n",
    "        height=450,\n",
    "        margin={\"t\": 50, \"b\": 50, \"l\": 50, \"r\": 50},\n",
    "        showlegend=True,\n",
    "        legend=dict(\n",
    "            orientation=\"h\",\n",
    "            yanchor=\"top\",\n",
    "            y=1-0.01,\n",
    "            xanchor=\"left\",\n",
    "            x=0+0.01\n",
    "        ),\n",
    "    )\n",
    "\n",
    "    return fig"
   ]
  },
  {
   "cell_type": "code",
   "execution_count": 75,
   "id": "10db9f87-6d01-4607-b161-b4b3c9ba79fc",
   "metadata": {},
   "outputs": [],
   "source": [
    "# create_bar_chart_country(df_eu_total, df_country, selected_country)"
   ]
  },
  {
   "cell_type": "markdown",
   "id": "979991e7-1b84-44ca-a3fb-be3aa305b9d8",
   "metadata": {},
   "source": [
    "# V. Dashboard "
   ]
  },
  {
   "cell_type": "markdown",
   "id": "bd2b50ac-0ffc-4a90-8697-af185f6d28f5",
   "metadata": {},
   "source": [
    "##### [Show/Hide Code] - **Table**"
   ]
  },
  {
   "cell_type": "code",
   "execution_count": 76,
   "id": "d1c5cec6-5664-42b8-aa93-ba9035fa3519",
   "metadata": {},
   "outputs": [],
   "source": [
    "# Display data in Tabulator widget\n",
    "fig_table = pn.widgets.Tabulator(\n",
    "    df_renewable[['Country', 'Code', 'Flag', 'Energy Type', 'Renewable Percentage', 'Year']],\n",
    "    pagination=\"remote\",          # Enables pagination\n",
    "    page_size=10,                 # Sets the number of rows per page\n",
    "    show_index=False              # Hides the index column\n",
    ")"
   ]
  },
  {
   "cell_type": "markdown",
   "id": "216e0e8c-1f33-4913-a2ee-206fa7afc05c",
   "metadata": {},
   "source": [
    "##### [Show/Hide Code] - **Sidebar**"
   ]
  },
  {
   "cell_type": "code",
   "execution_count": 77,
   "id": "7104233d-fa1a-43ac-9141-033c4552cd26",
   "metadata": {},
   "outputs": [],
   "source": [
    "# Define Markdown content\n",
    "sidebar_content = \"\"\"\n",
    "#### About\n",
    "Explore renewable energy developments in the European Union. Data is sourced from [Eurostat](https://ec.europa.eu/eurostat/databrowser/explore/all/envir?lang=en&subtheme=nrg&display=list&sort=category).\n",
    "\n",
    "#### Project Page on GitHub\n",
    "[https://github.com/kuranez/EU-Energy-Map](https://github.com/kuranez/EU-Energy-Map) \\\n",
    "\"\"\"\n",
    "\n",
    "sidebar_pane = pn.pane.Markdown(sidebar_content)"
   ]
  },
  {
   "cell_type": "markdown",
   "id": "5da2bce3-09e9-4d69-98cd-fa6ea89db961",
   "metadata": {},
   "source": [
    "##### [Show/Hide Code] - **Widgets**"
   ]
  },
  {
   "cell_type": "code",
   "execution_count": 78,
   "id": "c8c6fb9e-b16e-4e46-8932-5b3ef22e7803",
   "metadata": {},
   "outputs": [],
   "source": [
    "@pn.depends(year_slider.param.value, watch=True)\n",
    "def filter_by_year(year):\n",
    "    return df_renewable[df_renewable['Year'] == year]"
   ]
  },
  {
   "cell_type": "code",
   "execution_count": 79,
   "id": "0df35c48-237f-48ca-8cbf-fc96cb613844",
   "metadata": {},
   "outputs": [],
   "source": [
    "# # Callback to update filtered data\n",
    "@pn.depends(country_selection.param.value, watch=True)\n",
    "def filter_by_country(country):\n",
    "    return df_renewable[df_renewable['Country'] == country]\n",
    "\n",
    "# # Combine selected country's flag for display\n",
    "# @pn.depends(country_selection.param.value)\n",
    "# def display_country_flag(country):\n",
    "#     return f\"{country_flag_map[country]} {country}\""
   ]
  },
  {
   "cell_type": "markdown",
   "id": "f9d5b764-a545-4e26-9a55-6e3c33047c78",
   "metadata": {},
   "source": [
    "##### [Show/Hide Code] - **Component Creation**"
   ]
  },
  {
   "cell_type": "code",
   "execution_count": 80,
   "id": "2cf3fb0f-4713-49fc-babf-0b1a50106038",
   "metadata": {},
   "outputs": [],
   "source": [
    "# Step 1: Create Map\n",
    "eu_map = create_choropleth_map(df_year)\n",
    "\n",
    "# Step 2: Create Charts\n",
    "year = selected_year\n",
    "fig_by_year = create_bar_chart_year(df_year, year)\n",
    "\n",
    "country = selected_country\n",
    "fig_by_country = create_bar_chart_country(df_eu_total, df_country, country)"
   ]
  },
  {
   "cell_type": "markdown",
   "id": "c5d2b328-4ae1-4233-8d31-6a3248608a5c",
   "metadata": {},
   "source": [
    "##### [Show/Hide Code] - **Update Selection**"
   ]
  },
  {
   "cell_type": "code",
   "execution_count": 81,
   "id": "bcc57591-49c7-407a-9af1-432bde0175af",
   "metadata": {},
   "outputs": [],
   "source": [
    "# Map and bar chart update functions\n",
    "@pn.cache\n",
    "def update_map(year):\n",
    "    df_selected_year = df_renewable[df_renewable['Year'] == year]\n",
    "    return create_choropleth_map(df_selected_year)\n",
    "# Callback to filter data by selected year\n",
    "\n",
    "@pn.cache\n",
    "def update_year_chart(year):\n",
    "    df_selected_year = df_renewable[df_renewable['Year'] == year].sort_values(by='Renewable Percentage')\n",
    "    return create_bar_chart_year(df_selected_year, year)\n",
    "\n",
    "@pn.cache\n",
    "def update_country_chart(country):\n",
    "    df_selected_country = df_renewable[df_renewable['Country'] == country]\n",
    "    return create_bar_chart_country(df_eu_total, df_selected_country, country)\n",
    "\n",
    "def update_country_chart(selected_value):\n",
    "    # Extract the country name from the selection\n",
    "    # selected_country = selected_value.split(\" \", 1)[1]\n",
    "    \n",
    "    # Filter the dataframe for the selected country\n",
    "    df_selected_country = df_renewable[df_renewable['Country'] == selected_country]\n",
    "    \n",
    "    # Create the bar chart\n",
    "    return create_bar_chart_country(df_eu_total, df_selected_country, selected_country)\n"
   ]
  },
  {
   "cell_type": "markdown",
   "id": "0a197905-a8a9-44cb-9dc8-f44835c3283f",
   "metadata": {},
   "source": [
    "##### [Show/Hide Code] - **Bind Selection**"
   ]
  },
  {
   "cell_type": "code",
   "execution_count": 82,
   "id": "ee01c3b9-f648-4d9c-91ac-2d86c7abb7c2",
   "metadata": {},
   "outputs": [],
   "source": [
    "# Step 1: Bind year selection\n",
    "interactive_map = pn.bind(update_map, year_slider)\n",
    "\n",
    "# Step 2: Bind year selection to chart\n",
    "interactive_bar_chart_year = pn.bind(update_year_chart, year_slider)\n",
    "\n",
    "# Step 3: Bind country selection\n",
    "interactive_bar_chart_country = pn.bind(update_country_chart, country_selection.param.value)"
   ]
  },
  {
   "cell_type": "markdown",
   "id": "5793d341-e98a-4afb-be3c-358ef7bb87d3",
   "metadata": {},
   "source": [
    "##### [Show/Hide Code] - **Panes**"
   ]
  },
  {
   "cell_type": "code",
   "execution_count": 83,
   "id": "97238ea0-76c9-4863-a523-d50dd34c5f8a",
   "metadata": {},
   "outputs": [],
   "source": [
    "filter_year_pane = pn.Column(year_slider, pn.pane.Plotly(interactive_bar_chart_year,))\n",
    "filter_country_pane = pn.Column(country_selection, pn.pane.Plotly(interactive_bar_chart_country))\n",
    "table_pane = pn.Column(fig_table)"
   ]
  },
  {
   "cell_type": "markdown",
   "id": "de2dc527-6370-4b04-b314-e40a8ef2c6e7",
   "metadata": {},
   "source": [
    "##### [Show/Hide Code] - **Tabs**"
   ]
  },
  {
   "cell_type": "code",
   "execution_count": 86,
   "id": "ad5aded2-1261-491f-9c28-cec2efe195f0",
   "metadata": {},
   "outputs": [
    {
     "data": {
      "application/vnd.jupyter.widget-view+json": {
       "model_id": "648749f67f9a4627b4d0f0b445d8b0ca",
       "version_major": 2,
       "version_minor": 0
      },
      "text/plain": [
       "BokehModel(combine_events=True, render_bundle={'docs_json': {'5b2b001a-e5e9-4cd9-9f57-f7fdebaa4bb3': {'version…"
      ]
     },
     "execution_count": 86,
     "metadata": {},
     "output_type": "execute_result"
    }
   ],
   "source": [
    "tabs = pn.Tabs(\n",
    "    ('Filter by Year', filter_year_pane),\n",
    "    ('Filter by Country', filter_country_pane),\n",
    "    ('Explore Data', table_pane),\n",
    ")\n",
    "\n",
    "tabs"
   ]
  },
  {
   "cell_type": "markdown",
   "id": "f4eec864-3956-431e-843c-f29ad3489c51",
   "metadata": {},
   "source": [
    "##### [Show/Hide Code] - **Layout**"
   ]
  },
  {
   "cell_type": "code",
   "execution_count": 87,
   "id": "ac98c8c9-f692-49c1-b9b4-02da77af0829",
   "metadata": {},
   "outputs": [],
   "source": [
    "layout = pn.Column(\n",
    "    pn.pane.Plotly(interactive_map, sizing_mode='stretch_width'),\n",
    "    tabs,\n",
    "    sizing_mode='stretch_width'\n",
    ")\n",
    "\n",
    "#layout"
   ]
  },
  {
   "cell_type": "markdown",
   "id": "6bcf6705-40c6-4ab1-b37d-9f06a3d4e76e",
   "metadata": {},
   "source": [
    "##### [Show/Hide Code] - **Serve Dashboard**"
   ]
  },
  {
   "cell_type": "code",
   "execution_count": 88,
   "id": "e5cc9329-dae0-4e08-a61b-05065637a6db",
   "metadata": {},
   "outputs": [],
   "source": [
    "pn.template.FastListTemplate(\n",
    "    title=\"EU Energy Map\", sidebar=[sidebar_pane],\n",
    "    logo=\"./img/eu-svgrepo-com-256px.svg\",\n",
    "    main=[layout],\n",
    ").servable();"
   ]
  },
  {
   "cell_type": "code",
   "execution_count": null,
   "id": "2fd61828-574b-46ff-b115-a1c16006105d",
   "metadata": {},
   "outputs": [],
   "source": []
  }
 ],
 "metadata": {
  "kernelspec": {
   "display_name": "jupyter_env",
   "language": "python",
   "name": "python3"
  },
  "language_info": {
   "codemirror_mode": {
    "name": "ipython",
    "version": 3
   },
   "file_extension": ".py",
   "mimetype": "text/x-python",
   "name": "python",
   "nbconvert_exporter": "python",
   "pygments_lexer": "ipython3",
   "version": "3.11.11"
  }
 },
 "nbformat": 4,
 "nbformat_minor": 5
}
