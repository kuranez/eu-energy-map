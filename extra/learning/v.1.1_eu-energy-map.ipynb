{
 "cells": [
  {
   "cell_type": "markdown",
   "id": "4dbee3db-d0b2-4047-9828-db6526f1c331",
   "metadata": {},
   "source": [
    "# EU Energy Map\n",
    "\n",
    "**Version 1.1**\n",
    "\n",
    "https://github.com/kuranez/EU-Energy-Map"
   ]
  },
  {
   "cell_type": "markdown",
   "id": "1ddca765-9694-495c-9c5f-e6c0033e36da",
   "metadata": {},
   "source": [
    "## **Code Structure**"
   ]
  },
  {
   "cell_type": "markdown",
   "id": "0b391b1d-b922-4a92-aae7-b2a2c81cb66a",
   "metadata": {},
   "source": [
    "### I. Import\n",
    "a. Standard Library Modules (Built-in Python modules)\n",
    "b. Interactive Dashboard and Web App Development\n",
    "c. Data Manipulation and Geospatial Analysis\n",
    "d. Data Visualization (Plotly Ecosystem)"
   ]
  },
  {
   "cell_type": "markdown",
   "id": "5f9bfda2-374d-4c63-a45b-98a7cda81afb",
   "metadata": {},
   "source": [
    "#### **Code**"
   ]
  },
  {
   "cell_type": "code",
   "execution_count": 1,
   "id": "c72837de-6059-4017-a832-82481720ebdf",
   "metadata": {},
   "outputs": [],
   "source": [
    "## a. Standard Library Modules (Built-in Python modules)\n",
    "import os\n",
    "import json\n",
    "\n",
    "## b. Interactive Dashboard and Web App Development\n",
    "import panel as pn\n",
    "\n",
    "## c. Data Manipulation and Geospatial Analysis\n",
    "import pandas as pd\n",
    "import geopandas as gpd\n",
    "\n",
    "## d. Data Visualization (Plotly Ecosystem)\n",
    "import plotly.express as px\n",
    "import plotly.graph_objects as go\n",
    "import plotly.io as pio\n",
    "from plotly.colors import sample_colorscale"
   ]
  },
  {
   "cell_type": "markdown",
   "id": "15b16159-20f7-49e7-90ee-179bebf45ada",
   "metadata": {},
   "source": [
    "### II. Settings\n",
    "a. Set Panel extension\n",
    "b. Set Plotly renderer\n",
    "c. Set MapBox-Access-Token"
   ]
  },
  {
   "cell_type": "markdown",
   "id": "32677596-2c2f-40d2-a541-0dea97f8e9b3",
   "metadata": {},
   "source": [
    "#### **Code**"
   ]
  },
  {
   "cell_type": "code",
   "execution_count": null,
   "id": "6f319a44-03a5-4365-9819-9dd175c3528e",
   "metadata": {},
   "outputs": [],
   "source": [
    "## a. Set up Panel extension\n",
    "pn.extension('tabulator', 'plotly', design='material', sizing_mode='stretch_width')  \n",
    "\n",
    "## b. Set Plotly renderer to JupyterLab\n",
    "# pio.renderers.default = \"jupyterlab\"\n",
    "\n",
    "## c. Set MapBox-Access-Token\n",
    "mapbox_token = 'pk.eyJ1Ijoia3VyYW5leiIsImEiOiJjbTJmMjI0d2kwNDVxMnFzYXNldnc1N2VsIn0.t11TYpF2QBdid-hQfW8mig'"
   ]
  },
  {
   "cell_type": "markdown",
   "id": "75ea7361-4c00-46fa-a2a5-8a0345d532f6",
   "metadata": {},
   "source": [
    "### III. Data Processing"
   ]
  },
  {
   "cell_type": "markdown",
   "id": "662335c9-70c1-4e4f-810d-e7c50d9032ae",
   "metadata": {},
   "source": [
    "#### a. Load data\n",
    "- **Step 1:** Load CSV data\n",
    "- **Step 2:** Load GeoJSON as dict\n",
    "- **Step 3:** Load GeoJSON into GeoDataFrame"
   ]
  },
  {
   "cell_type": "markdown",
   "id": "50cd3a43-815c-4d47-83bd-a9d87732c689",
   "metadata": {},
   "source": [
    "#### **Code**"
   ]
  },
  {
   "cell_type": "code",
   "execution_count": null,
   "id": "cc6d296c-20af-42eb-a7d3-7a648e6013ef",
   "metadata": {},
   "outputs": [],
   "source": [
    "## Step 1: Load CSV data\n",
    "data = pd.read_csv('./data/nrg_ind_ren_linear.csv')  \n",
    "\n",
    "## Step 2: Load GeoJSON for European countries\n",
    "with open('europe.geojson') as f:\n",
    "europe_map = json.load(f)\n",
    "\n",
    "## Step 3: Load the GeoJSON into a GeoDataFrame\n",
    "europe_gdf = gpd.read_file(\"europe.geojson\")"
   ]
  },
  {
   "cell_type": "markdown",
   "id": "24706f42-f8d2-4164-9ee7-0bd150e53da4",
   "metadata": {},
   "source": [
    "#### b. Merge data"
   ]
  },
  {
   "cell_type": "markdown",
   "id": "2a6ffdfe-9e03-4313-b658-fccc9e3305dc",
   "metadata": {},
   "source": [
    "- **Step 4:** Merge energy data with map data"
   ]
  },
  {
   "cell_type": "markdown",
   "id": "2382a47d-9aea-4986-8132-2a2eb2a8ddcd",
   "metadata": {},
   "source": [
    "#### **Code**"
   ]
  },
  {
   "cell_type": "code",
   "execution_count": null,
   "id": "53e7ca82-ca4b-4858-84a0-9ce771232371",
   "metadata": {},
   "outputs": [],
   "source": [
    "## Step 4: Merge energy data with map data\n",
    "merged_data = gpd.read_file('europe.geojson').merge(data, left_on='CNTR_ID', right_on='geo')"
   ]
  },
  {
   "cell_type": "markdown",
   "id": "9961b171-f4a5-4025-915f-bafab0865c98",
   "metadata": {},
   "source": [
    "#### c. Format data"
   ]
  },
  {
   "cell_type": "markdown",
   "id": "1a632c14-fb5b-4262-9ab8-d8f0c1627190",
   "metadata": {},
   "source": [
    "- **Step 5:** Clean and rename columns\n",
    "- **Step 6:** Rename entries\n",
    "- **Step 7:** Drop columns\n",
    "- **Step 8:** Convert to numeric\n",
    "- **Step 9:** Round numbers\n",
    "- **Step 10:** Add country flags\n",
    "- **Step 11:** Reorder columns\n",
    "- **Step 12:** Apply columns order"
   ]
  },
  {
   "cell_type": "markdown",
   "id": "80ea9b31-087e-483c-8ed4-52b1cfd07dba",
   "metadata": {},
   "source": [
    "#### **Code**"
   ]
  },
  {
   "cell_type": "code",
   "execution_count": null,
   "id": "2d918a6b-817c-4f19-8d13-ed1496af2ec2",
   "metadata": {},
   "outputs": [],
   "source": [
    "## Step 5: Clean and rename columns for readability\n",
    "merged_data = merged_data.rename(columns={\n",
    "\t'nrg_bal': 'Energy Type',\n",
    "\t'TIME_PERIOD': 'Year',\n",
    "\t'OBS_VALUE': 'Renewable Percentage',\n",
    "\t'geo': 'Code',\n",
    "\t'NAME_ENGL': 'Country',\n",
    "})\n",
    "\n",
    "## Step 6: Rename entries in 'Energy Type' column for clarity\n",
    "merged_data['Energy Type'] = merged_data['Energy Type'].replace({\n",
    "\t'REN': 'Renewable Energy Total',\n",
    "\t'REN_ELC': 'Renewable Electricity',\n",
    "\t'REN_HEAT_CL': 'Renewable Heating and Cooling',\n",
    "\t'REN_TRA': 'Renewable Energy in Transport'\n",
    "})\n",
    "\n",
    "## Step 7: Drop columns\n",
    "merged_data = merged_data.drop(columns=['LAST UPDATE', 'freq', 'unit', 'OBS_FLAG'])\n",
    "\n",
    "## Step 8: Convert to numeric\n",
    "merged_data[['Year', 'Renewable Percentage']] = merged_data[['Year', 'Renewable Percentage']].apply(pd.to_numeric)\n",
    "\n",
    "## Step 9: Round the 'Renewable Percentage' to 1 decimal place\n",
    "merged_data['Renewable Percentage'] = merged_data['Renewable Percentage'].round(1)\n",
    "\n",
    "## Step 10: Add Country Flags\n",
    "\n",
    "@pn.cache\n",
    "# Function to convert ISO2 country code to flag emoji\n",
    "def iso2_to_flag(iso2_code):\n",
    "# Convert ISO2 code to country flag emoji using the formula\n",
    "return chr(0x1F1E6 + ord(iso2_code[0]) - ord('A')) + chr(0x1F1E6 + ord(iso2_code[1]) - ord('A'))\n",
    "\n",
    "# Add a new column 'Flag' with the corresponding country flag emojis\n",
    "merged_data['Flag'] = merged_data['Code'].apply(iso2_to_flag)\n",
    "\n",
    "## Step 11: Reorder columns\n",
    "final_columns_order = [\n",
    "\t'Code', 'Flag', 'Country', 'Energy Type', 'Renewable Percentage', 'Year',\n",
    "\t'SVRG_UN', 'EU_STAT', 'EFTA_STAT', 'CC_STAT',\n",
    "\t'CNTR_ID', 'CNTR_NAME', 'NAME_FREN', 'NAME_GERM',\n",
    "\t'ISO3_CODE',\n",
    "\t'CAPT',\n",
    "\t'DATAFLOW',\n",
    "\t'geometry',\n",
    "]\n",
    "\n",
    "## Step 12: FINAL DATAFRAME: Apply column order\n",
    "merged_data_clean = merged_data[final_columns_order]"
   ]
  },
  {
   "cell_type": "markdown",
   "id": "91162d43-7e40-4cab-9818-7e9d9d3f298e",
   "metadata": {},
   "source": [
    "#### d. Filter data"
   ]
  },
  {
   "cell_type": "markdown",
   "id": "ad5916f9-6582-450a-b952-dc94c52721b5",
   "metadata": {},
   "source": [
    "- **Step 1:** Filter by EU countries\n",
    "- **Step 2:** Filter by Energy type\n",
    "- **Step 3:** Filter by Year\n",
    "- **Step 4:** Filter by Countriy"
   ]
  },
  {
   "cell_type": "markdown",
   "id": "882ec6ef-8b2e-4d8c-b69a-48d7faef9857",
   "metadata": {},
   "source": [
    "#### **Code**"
   ]
  },
  {
   "cell_type": "code",
   "execution_count": null,
   "id": "32975437-14f4-49dd-b42e-cd0e067e3575",
   "metadata": {},
   "outputs": [],
   "source": [
    "## Step 1: Filter by EU countries\n",
    "eu_countries = [\n",
    "\t\"AT\", \"BE\", \"BG\", \"HR\", \"CY\", \"CZ\", \"DK\", \"EE\", \"FI\", \"FR\", \"DE\", \"GR\", \"HU\", \"IE\", \"IT\", \"LV\", \"LT\", \"LU\", \"MT\", \"NL\", \"PL\", \"PT\", \"RO\", \"SK\", \"SI\", \"ES\", \"SE\"\n",
    "\n",
    "]\n",
    "\n",
    "eu_data = merged_data_clean[merged_data_clean['Code'].isin(eu_countries)]\n",
    "\n",
    "## Step 2: Filter by Energy type\n",
    "df_renewable = merged_data_clean[\n",
    "(merged_data_clean['Energy Type'] == 'Renewable Energy Total') &\n",
    "(merged_data_clean['Code'].isin(eu_countries))]\n",
    "\n",
    "## Step 3: Filter by Year\n",
    "selected_year = 2022 # for testing/initial display\n",
    "df_year = df_renewable[df_renewable['Year'] == selected_year]\n",
    "\n",
    "## Step 4: Filter by Country\n",
    "selected_country = \"Germany\" # for testing/iitial display\n",
    "df_country = df_renewable[df_renewable['Country'] == selected_country]\n"
   ]
  },
  {
   "cell_type": "markdown",
   "id": "5f56764e-9832-41ac-afe9-21f125104fc3",
   "metadata": {},
   "source": [
    "#### e.  Data Calculations"
   ]
  },
  {
   "cell_type": "markdown",
   "id": "2a19e128-325f-463e-8609-6b2bc7875a74",
   "metadata": {},
   "source": [
    "- EU Total Average Renewable Energy Percentage"
   ]
  },
  {
   "cell_type": "markdown",
   "id": "467cd5b4-7d3c-495e-93b2-063879d79762",
   "metadata": {},
   "source": [
    "#### **Code**"
   ]
  },
  {
   "cell_type": "code",
   "execution_count": null,
   "id": "1c062464-b401-4bff-807a-0fa283da091e",
   "metadata": {},
   "outputs": [],
   "source": [
    "# EU Total Average\n",
    "# - Group by year and calculate the average renewable energy percentage for the EU total\n",
    "df_eu_total = df_renewable.groupby('Year', as_index=False)['Renewable Percentage'].mean()"
   ]
  },
  {
   "cell_type": "markdown",
   "id": "8e183643-dd0c-4e5c-975c-a4cdfe4c4dfd",
   "metadata": {},
   "source": [
    "### IV. Dashboard Components"
   ]
  },
  {
   "cell_type": "markdown",
   "id": "0108376e-dad2-4505-8fd7-4e5affc8d88b",
   "metadata": {},
   "source": [
    "#### a. Widgets"
   ]
  },
  {
   "cell_type": "markdown",
   "id": "1e441b28-0655-4a74-806e-04b71f143a27",
   "metadata": {},
   "source": [
    "- (1) **Year Selection** (year_slider)\n",
    "- (2) **Country Selection** (country_selection)"
   ]
  },
  {
   "cell_type": "markdown",
   "id": "d27d1987-4b60-412d-b3ab-564dea2fe4a4",
   "metadata": {},
   "source": [
    "#### **Code**"
   ]
  },
  {
   "cell_type": "code",
   "execution_count": 2,
   "id": "14e0d519-fe69-4324-a901-9e701248c5b7",
   "metadata": {},
   "outputs": [
    {
     "ename": "NameError",
     "evalue": "name 'df_renewable' is not defined",
     "output_type": "error",
     "traceback": [
      "\u001b[0;31m---------------------------------------------------------------------------\u001b[0m",
      "\u001b[0;31mNameError\u001b[0m                                 Traceback (most recent call last)",
      "Cell \u001b[0;32mIn[2], line 5\u001b[0m\n\u001b[1;32m      2\u001b[0m year_slider \u001b[38;5;241m=\u001b[39m pn\u001b[38;5;241m.\u001b[39mwidgets\u001b[38;5;241m.\u001b[39mIntSlider(name\u001b[38;5;241m=\u001b[39m\u001b[38;5;124m'\u001b[39m\u001b[38;5;124mSelect Year\u001b[39m\u001b[38;5;124m'\u001b[39m, start\u001b[38;5;241m=\u001b[39m\u001b[38;5;241m2004\u001b[39m, end\u001b[38;5;241m=\u001b[39m\u001b[38;5;241m2022\u001b[39m, step\u001b[38;5;241m=\u001b[39m\u001b[38;5;241m1\u001b[39m, value\u001b[38;5;241m=\u001b[39m\u001b[38;5;241m2022\u001b[39m)\n\u001b[1;32m      4\u001b[0m \u001b[38;5;66;03m# Extract unique country names\u001b[39;00m\n\u001b[0;32m----> 5\u001b[0m unique_countries \u001b[38;5;241m=\u001b[39m \u001b[43mdf_renewable\u001b[49m[\u001b[38;5;124m'\u001b[39m\u001b[38;5;124mCountry\u001b[39m\u001b[38;5;124m'\u001b[39m]\u001b[38;5;241m.\u001b[39munique()\u001b[38;5;241m.\u001b[39mtolist()\n\u001b[1;32m      6\u001b[0m unique_flags \u001b[38;5;241m=\u001b[39m df_renewable[\u001b[38;5;124m'\u001b[39m\u001b[38;5;124mFlag\u001b[39m\u001b[38;5;124m'\u001b[39m]\u001b[38;5;241m.\u001b[39munique()\u001b[38;5;241m.\u001b[39mtolist()\n\u001b[1;32m      8\u001b[0m \u001b[38;5;66;03m# Combine country names and flags\u001b[39;00m\n",
      "\u001b[0;31mNameError\u001b[0m: name 'df_renewable' is not defined"
     ]
    }
   ],
   "source": [
    "# (1) YEAR SELECTION\n",
    "year_slider = pn.widgets.IntSlider(name='Select Year', start=2004, end=2022, step=1, value=2022)\n",
    "\n",
    "# Extract unique country names\n",
    "unique_countries = df_renewable['Country'].unique().tolist()\n",
    "unique_flags = df_renewable['Flag'].unique().tolist()\n",
    "\n",
    "# Combine country names and flags\n",
    "country_flag_items = [f\"{flag} {country}\" for country, flag in zip(unique_countries, unique_flags)]\n",
    "\n",
    "# Define the default country\n",
    "default_country = \"Germany\"\n",
    "\n",
    "# Find the corresponding entry in `country_flag_items`\n",
    "default_value = next(item for item in country_flag_items if default_country in item)\n",
    "\n",
    "# (2) COUNTRY SELECTION\n",
    "country_selection = pn.widgets.Select(name='Select country', options=country_flag_items, value=default_value)"
   ]
  },
  {
   "cell_type": "markdown",
   "id": "5ea79e1b-9178-4580-96e8-fdc1c50ab538",
   "metadata": {},
   "source": [
    "#### b. Sidebar"
   ]
  },
  {
   "cell_type": "markdown",
   "id": "db64ed60-7d1b-40fa-90f7-bba36fe2913d",
   "metadata": {},
   "source": [
    "- str: sidebar_content\n",
    "- (3) sidebar_pane"
   ]
  },
  {
   "cell_type": "markdown",
   "id": "265af685-2723-41a7-bf3f-dbab7145cf99",
   "metadata": {},
   "source": [
    "#### **Code**"
   ]
  },
  {
   "cell_type": "code",
   "execution_count": 3,
   "id": "d587f658-b9c6-4e86-a3f4-5515b2a731d7",
   "metadata": {},
   "outputs": [],
   "source": [
    "sidebar_content = \"\"\"\n",
    "#### About\n",
    "\n",
    "Explore renewable energy developments in the European Union. Data is sourced from [Eurostat](https://ec.europa.eu/eurostat/databrowser/explore/all/envir?lang=en&subtheme=nrg&display=list&sort=category).\n",
    "\n",
    "#### Project Page on GitHub\n",
    "\n",
    "[https://github.com/kuranez/EU-Energy-Map](https://github.com/kuranez/EU-Energy-Map) \\\n",
    "\n",
    "\"\"\"\n",
    "\n",
    "# (3) SIDEBAR PANE\n",
    "sidebar_pane = pn.pane.Markdown(sidebar_content)\n"
   ]
  },
  {
   "cell_type": "markdown",
   "id": "7b6be055-3663-456f-b245-780d5019b588",
   "metadata": {},
   "source": [
    "#### c. Main Panel Components"
   ]
  },
  {
   "cell_type": "markdown",
   "id": "87235d29-775c-40fc-b2e3-9dde50566c97",
   "metadata": {},
   "source": [
    "- (4) **Table** (fig_table)\n",
    "- (5) **Map** (create_choropleth_map(df_year), returns fig_map)\n",
    "- (6) **Year Chart** (create_bar_chart_year(df_year, year), returns fig)\n",
    "- (7) **Country Chart** (create_bar_chart_country(df_eu_total, df_country, country), returns fig)"
   ]
  },
  {
   "cell_type": "markdown",
   "id": "c925bb13-7c7a-4d84-afcf-ccf82e07ef62",
   "metadata": {},
   "source": [
    "#### **Code**"
   ]
  },
  {
   "cell_type": "code",
   "execution_count": 4,
   "id": "9e881fe7-9067-4936-b416-1755e782dda5",
   "metadata": {},
   "outputs": [
    {
     "ename": "NameError",
     "evalue": "name 'df_renewable' is not defined",
     "output_type": "error",
     "traceback": [
      "\u001b[0;31m---------------------------------------------------------------------------\u001b[0m",
      "\u001b[0;31mNameError\u001b[0m                                 Traceback (most recent call last)",
      "Cell \u001b[0;32mIn[4], line 3\u001b[0m\n\u001b[1;32m      1\u001b[0m \u001b[38;5;66;03m# (4) Display data in TABULATOR WIDGET\u001b[39;00m\n\u001b[1;32m      2\u001b[0m fig_table \u001b[38;5;241m=\u001b[39m pn\u001b[38;5;241m.\u001b[39mwidgets\u001b[38;5;241m.\u001b[39mTabulator(\n\u001b[0;32m----> 3\u001b[0m \t\u001b[43mdf_renewable\u001b[49m[[\u001b[38;5;124m'\u001b[39m\u001b[38;5;124mCountry\u001b[39m\u001b[38;5;124m'\u001b[39m, \u001b[38;5;124m'\u001b[39m\u001b[38;5;124mCode\u001b[39m\u001b[38;5;124m'\u001b[39m, \u001b[38;5;124m'\u001b[39m\u001b[38;5;124mFlag\u001b[39m\u001b[38;5;124m'\u001b[39m, \u001b[38;5;124m'\u001b[39m\u001b[38;5;124mEnergy Type\u001b[39m\u001b[38;5;124m'\u001b[39m, \u001b[38;5;124m'\u001b[39m\u001b[38;5;124mRenewable Percentage\u001b[39m\u001b[38;5;124m'\u001b[39m, \u001b[38;5;124m'\u001b[39m\u001b[38;5;124mYear\u001b[39m\u001b[38;5;124m'\u001b[39m]],\n\u001b[1;32m      4\u001b[0m \tpagination\u001b[38;5;241m=\u001b[39m\u001b[38;5;124m\"\u001b[39m\u001b[38;5;124mremote\u001b[39m\u001b[38;5;124m\"\u001b[39m, \u001b[38;5;66;03m# Enables pagination\u001b[39;00m\n\u001b[1;32m      5\u001b[0m \tpage_size\u001b[38;5;241m=\u001b[39m\u001b[38;5;241m10\u001b[39m, \u001b[38;5;66;03m# Sets the number of rows per page\u001b[39;00m\n\u001b[1;32m      6\u001b[0m \tshow_index\u001b[38;5;241m=\u001b[39m\u001b[38;5;28;01mFalse\u001b[39;00m \u001b[38;5;66;03m# Hides the index column\u001b[39;00m\n\u001b[1;32m      7\u001b[0m )\n",
      "\u001b[0;31mNameError\u001b[0m: name 'df_renewable' is not defined"
     ]
    }
   ],
   "source": [
    "# (4) Display data in TABULATOR WIDGET\n",
    "fig_table = pn.widgets.Tabulator(\n",
    "\tdf_renewable[['Country', 'Code', 'Flag', 'Energy Type', 'Renewable Percentage', 'Year']],\n",
    "\tpagination=\"remote\", # Enables pagination\n",
    "\tpage_size=10, # Sets the number of rows per page\n",
    "\tshow_index=False # Hides the index column\n",
    ")"
   ]
  },
  {
   "cell_type": "code",
   "execution_count": 5,
   "id": "e34c0c89-ca80-458d-b344-efa94fee0499",
   "metadata": {},
   "outputs": [],
   "source": [
    "@pn.cache\n",
    "#(5) Create Choropleth map function\n",
    "def create_choropleth_map(df_year): \n",
    "\tfig_map = go.Figure(go.Choroplethmapbox(\n",
    "\t\tgeojson=europe_map,\n",
    "\t\tlocations=df_year['Code'],\n",
    "\t\tz=df_year['Renewable Percentage'],\n",
    "\t\tcolorscale=\"Viridis\",\n",
    "\t\tzmin=0, zmax=100,\n",
    "\t\tmarker_opacity=0.8, marker_line_width=0.5,\n",
    "\t\tfeatureidkey=\"properties.CNTR_ID\",\n",
    "\t\thoverinfo='location+z', hovertext=df_year['Renewable Percentage']\n",
    "\t))\n",
    "\n",
    "\tfig_map.update_layout(\n",
    "\t\tmapbox_accesstoken=mapbox_token,\n",
    "\t\tmapbox_style=\"carto-positron\",\n",
    "\t\tmapbox_zoom=3,\n",
    "\t\tmapbox_center={\"lat\": 54, \"lon\": 15},\n",
    "\t\ttitle=\"Renewable Energy as Percentage by Country in 2022\",\n",
    "\t\tmargin={\"r\": 0, \"t\": 0, \"l\": 0, \"b\": 0},\n",
    "\t\tgeo=dict(scope='europe', showlakes=False)\n",
    "\t)\n",
    "\n",
    "\treturn fig_map\n"
   ]
  },
  {
   "cell_type": "code",
   "execution_count": 6,
   "id": "9d86ed2d-19bf-4e86-b058-88b26b056712",
   "metadata": {},
   "outputs": [
    {
     "ename": "SyntaxError",
     "evalue": "'return' outside function (719737881.py, line 75)",
     "output_type": "error",
     "traceback": [
      "\u001b[0;36m  Cell \u001b[0;32mIn[6], line 75\u001b[0;36m\u001b[0m\n\u001b[0;31m    return fig\u001b[0m\n\u001b[0m    ^\u001b[0m\n\u001b[0;31mSyntaxError\u001b[0m\u001b[0;31m:\u001b[0m 'return' outside function\n"
     ]
    }
   ],
   "source": [
    "# (6) Create bar chart by year for all countries (create_bar_chart_year)\n",
    "@pn.cache\n",
    "def create_bar_chart_year(df_year, year):\n",
    "\t# Sort dataframe by renewable percentage in ascending order\n",
    "\tdf_year = df_year.sort_values(by='Renewable Percentage')\n",
    "\n",
    "\t# Calculate EU total average renewable percentage for 2022\n",
    "\teu_total_avg = df_year['Renewable Percentage'].mean()\n",
    "\n",
    "\t# Map EU total average to a color in the Viridis scale\n",
    "\tcolor_scale = px.colors.sequential.Viridis\n",
    "\tnormalized_avg = eu_total_avg / 100 # Normalize average to a 0-1 range\n",
    "\tscaled_color = sample_colorscale(color_scale, normalized_avg)[0]\n",
    "\n",
    "\t# Create bar trace (main layer)\n",
    "\tbar_trace = go.Bar(\n",
    "\t\tx=df_year['Country'],\n",
    "\t\ty=df_year['Renewable Percentage'],\n",
    "\t\tmarker=dict(\n",
    "\t\t\tcolor=df_year['Renewable Percentage'],\n",
    "\t\t\tcoloraxis='coloraxis', # Link to coloraxis\n",
    "\t\t),\n",
    "\t\tname=\"\", # Fix to hide trace info\n",
    "\t\thovertemplate=\"Country: %{customdata[0]}\"\n",
    "\t\t\t\t\t\"<b>%{customdata[1]}</b><br>\"\n",
    "\t\t\t\t\t\"Renewable Percentage: <b>%{y:.1f}%</b>\",\n",
    "\t\tcustomdata=df_year[['Flag', 'Country']].values, # Attach custom data\n",
    "\t\tshowlegend=False,\n",
    "\t)\n",
    "\n",
    "\t# Add scatter trace for EU Total Average (border layer)\n",
    "\tscatter_trace_border = go.Scatter(\n",
    "\t\tx=df_year['Country'], # Use all countries to make the line span across\n",
    "\t\ty=[eu_total_avg] * len(df_year), # Duplicate average value for each country\n",
    "\t\tmode=\"lines\",\n",
    "\t\tline=dict(dash=\"solid\", color=\"rgba(255, 255, 255, 0.7)\", width=4),\n",
    "\t\thoverinfo=\"skip\", # Suppress hover for border layer\n",
    "\t\tshowlegend=False,\n",
    "\t)\n",
    "\n",
    "\t# Add scatter trace for EU Total Average (main layer)\n",
    "\tscatter_trace = go.Scatter(\n",
    "\t\tx=df_year['Country'], # Use all countries to make the line span across\n",
    "\t\ty=[eu_total_avg] * len(df_year), # Duplicate average value for each country\n",
    "\t\tmode=\"lines\",\n",
    "\t\tline=dict(dash=\"solid\", color=scaled_color, width=2),\n",
    "\t\thovertemplate=\"🇪🇺 EU Total Average:<b> %{y:.1f}%</b>\",\n",
    "\t\tname=\"\", # Fix to suppress showing trace info\n",
    "\t\tshowlegend=False,\n",
    "\t)\n",
    "\n",
    "\t# Create figure\n",
    "\tfig = go.Figure(data=[bar_trace, scatter_trace_border, scatter_trace])\n",
    "\t\n",
    "\t# Update layout\n",
    "\tfig.update_layout(\n",
    "\t\ttitle=f\"Renewable Energy Percentage by Country in {year}\",\n",
    "\t\txaxis=dict(title=None),\n",
    "\t\tyaxis=dict(title=\"Renewable Energy (%)\"),\n",
    "\t\tcoloraxis=dict( # Define coloraxis for color bar\n",
    "\t\t\tcolorscale='Viridis',\n",
    "\t\t\tcmin=0,\n",
    "\t\t\tcmax=100,\n",
    "\t\t\tcolorbar=dict(\n",
    "\t\t\t\torientation=\"v\",\n",
    "\t\t\t\ttitle=None,\n",
    "\t\t\t\ttickvals=[0, 20, 40, 60, 80, 100],\n",
    "\t\t\t\tticktext=[\"0%\", \"20%\", \"40%\", \"60%\", \"80%\", \"100%\"],\n",
    "\t\t\t),\n",
    "\t\t),\n",
    "\t\tmargin={\"t\": 50, \"b\": 50, \"l\": 50, \"r\": 50},\n",
    "\t\theight=450,\n",
    "\t)\n",
    "\n",
    "return fig"
   ]
  },
  {
   "cell_type": "code",
   "execution_count": 7,
   "id": "3f219287-73f6-4d1a-952d-97c17aee0c1b",
   "metadata": {},
   "outputs": [
    {
     "ename": "SyntaxError",
     "evalue": "'return' outside function (3733556920.py, line 85)",
     "output_type": "error",
     "traceback": [
      "\u001b[0;36m  Cell \u001b[0;32mIn[7], line 85\u001b[0;36m\u001b[0m\n\u001b[0;31m    return fig\u001b[0m\n\u001b[0m    ^\u001b[0m\n\u001b[0;31mSyntaxError\u001b[0m\u001b[0;31m:\u001b[0m 'return' outside function\n"
     ]
    }
   ],
   "source": [
    "@pn.cache\n",
    "def create_bar_chart_country(df_eu_total, df_country, country):\n",
    "\t# Calculate the average renewable energy percentage for all years (used for annotation)\n",
    "\teu_total_avg = df_eu_total['Renewable Percentage'].mean()\n",
    "\n",
    "\t# Map EU total average to a color in the Viridis scale\n",
    "\tcolor_scale = px.colors.sequential.Viridis\n",
    "\tnormalized_avg = eu_total_avg / 100 # Normalize average to a 0-1 range\n",
    "\tscaled_color = sample_colorscale(color_scale, normalized_avg)[0]\n",
    "\t\n",
    "\t# Create the figure with Plotly\n",
    "\tfig = go.Figure()\n",
    "\t\n",
    "\t# Add the line trace for EU total renewable energy percentage over the years\n",
    "\tfig.add_trace(go.Scatter(\n",
    "\t\tx=df_eu_total['Year'],\n",
    "\t\ty=df_eu_total['Renewable Percentage'],\n",
    "\t\tmode='lines+markers',\n",
    "\t\tline=dict(color=scaled_color, width=3),\n",
    "\t\tmarker=dict(\n",
    "\t\t\tsize=6,\n",
    "\t\t\tcolor=df_eu_total['Renewable Percentage'], # Map the renewable percentage to color\n",
    "\t\t\tcolorscale='Viridis',\n",
    "\t\t\tcoloraxis=\"coloraxis\",\n",
    "\t\t),\n",
    "\t\thovertemplate=\"🇪🇺 %{x}: <b>%{y:.1f}%</b>\",\n",
    "\t\tname=\"EU Total\",\n",
    "\t))\n",
    "\n",
    "\t# Add the bar trace for the selected country's renewable energy percentage\n",
    "\tfig.add_trace(go.Bar(\n",
    "\t\tx=df_country['Year'],\n",
    "\t\ty=df_country['Renewable Percentage'],\n",
    "\t\tmarker=dict(\n",
    "\t\t\tcolor=df_country['Renewable Percentage'], # Map the renewable percentage to color\n",
    "\t\t\tcolorscale='Viridis',\n",
    "\t\t\tcoloraxis=\"coloraxis\",\n",
    "\t\t),\n",
    "\t\tcustomdata=df_country[['Flag', 'Country']].values, # Attach custom data\n",
    "\t\thovertemplate=\"Country: %{customdata[0]} \"\n",
    "\t\t\t\t\t\t\"<b>%{customdata[1]}</b><br>\"\n",
    "\t\t\t\t\t\t\"Year: <b>%{x}</b><br>\"\n",
    "\t\t\t\t\t\t\"Renewable Percentage: <b>%{y:.1f}%</b>\",\n",
    "\t\tname=\"\",\n",
    "\t\tshowlegend=False,\n",
    "\t))\n",
    "\n",
    "\t# Define the layout with legend at the bottom\n",
    "\tfig.update_layout(\n",
    "\t\ttitle=f\"Renewable Energy Percentage ({country}, 2004-2022)\",\n",
    "\t\txaxis=dict(\n",
    "\t\t\ttitle=\"Year\",\n",
    "\t\t\tshowgrid=False,\n",
    "\t\t\tshowline=True,\n",
    "\t\t\ttickmode=\"linear\",\n",
    "\t\t\ttick0=2005,\n",
    "\t\t\tdtick=5,\n",
    "\t\t\trange=[2003.5, 2022.5],\n",
    "\t\t),\n",
    "\t\tyaxis=dict(\n",
    "\t\t\ttitle=\"Renewable Energy (%)\",\n",
    "\t\t),\n",
    "\t\tcoloraxis=dict(\n",
    "\t\t\tcolorscale='Viridis',\n",
    "\t\t\tcmin=0,\n",
    "\t\t\tcmax=100,\n",
    "\t\t\tcolorbar=dict(\n",
    "\t\t\t\torientation=\"v\",\n",
    "\t\t\t\ttickvals=[0, 20, 40, 60, 80, 100],\n",
    "\t\t\t\tticktext=[\"0%\", \"20%\", \"40%\", \"60%\", \"80%\", \"100%\"],\n",
    "\t\t\t),\n",
    "\t\t),\n",
    "\t\theight=450,\n",
    "\t\tmargin={\"t\": 50, \"b\": 50, \"l\": 50, \"r\": 50},\n",
    "\t\tshowlegend=True,\n",
    "\t\tlegend=dict(\n",
    "\t\t\torientation=\"h\",\n",
    "\t\t\tyanchor=\"top\",\n",
    "\t\t\ty=1-0.01,\n",
    "\t\t\txanchor=\"left\",\n",
    "\t\t\tx=0+0.01\n",
    "\t\t),\n",
    "\t)\n",
    "\n",
    "return fig"
   ]
  },
  {
   "cell_type": "markdown",
   "id": "23c39e94-7f28-476d-a08f-353e0d351edf",
   "metadata": {},
   "source": [
    "### V. Dashboard Creation"
   ]
  },
  {
   "cell_type": "markdown",
   "id": "b816057c-7cfa-4eca-954e-b7a9f38bdd35",
   "metadata": {},
   "source": [
    "#### a. Create Components"
   ]
  },
  {
   "cell_type": "markdown",
   "id": "6da72f40-4515-455e-b169-5dadf55ee2ae",
   "metadata": {},
   "source": [
    "- Step 1: Create map (eu_map)\n",
    "- Step 2: Create year chart (fig_by_year)\n",
    "- Step 3: Create country chart (fig_by_country)"
   ]
  },
  {
   "cell_type": "markdown",
   "id": "82bda37b-c9d0-4aa3-aea1-e3599da11b1d",
   "metadata": {},
   "source": [
    "#### **Code**"
   ]
  },
  {
   "cell_type": "code",
   "execution_count": 8,
   "id": "55fe79ab-0b01-4735-9a20-f86d4cedb96d",
   "metadata": {},
   "outputs": [
    {
     "ename": "NameError",
     "evalue": "name 'df_year' is not defined",
     "output_type": "error",
     "traceback": [
      "\u001b[0;31m---------------------------------------------------------------------------\u001b[0m",
      "\u001b[0;31mNameError\u001b[0m                                 Traceback (most recent call last)",
      "Cell \u001b[0;32mIn[8], line 2\u001b[0m\n\u001b[1;32m      1\u001b[0m \u001b[38;5;66;03m## Step 1: Create map (eu_map)\u001b[39;00m\n\u001b[0;32m----> 2\u001b[0m eu_map \u001b[38;5;241m=\u001b[39m create_choropleth_map(\u001b[43mdf_year\u001b[49m)\n\u001b[1;32m      4\u001b[0m \u001b[38;5;66;03m## Step 2: Create year chart (fig_by_year)\u001b[39;00m\n\u001b[1;32m      5\u001b[0m year \u001b[38;5;241m=\u001b[39m selected_year\n",
      "\u001b[0;31mNameError\u001b[0m: name 'df_year' is not defined"
     ]
    }
   ],
   "source": [
    "## Step 1: Create map (eu_map)\n",
    "eu_map = create_choropleth_map(df_year)\n",
    "\n",
    "## Step 2: Create year chart (fig_by_year)\n",
    "year = selected_year\n",
    "fig_by_year = create_bar_chart_year(df_year, year)\n",
    "  \n",
    "## Step 3: Create country chart (fig_by_country)\n",
    "country = selected_country\n",
    "fig_by_country = create_bar_chart_country(df_eu_total, df_country, country)"
   ]
  },
  {
   "cell_type": "markdown",
   "id": "8d34b0cb-8faa-423d-b391-22feef5944d6",
   "metadata": {},
   "source": [
    "#### b. Update Functions"
   ]
  },
  {
   "cell_type": "markdown",
   "id": "b479a4f1-a985-4edc-bc14-157c541c094b",
   "metadata": {},
   "source": [
    "- 1. Update map by year \n",
    "- 2. Update year chart \n",
    "- 3. Update country chart by country\n",
    "- 4. Update country chart by selection"
   ]
  },
  {
   "cell_type": "markdown",
   "id": "8c548caa-4c66-4089-926b-9993e69f8018",
   "metadata": {},
   "source": [
    "#### **Code**"
   ]
  },
  {
   "cell_type": "markdown",
   "id": "434833c9-8bae-4b0a-bd23-5d8b4386f7f9",
   "metadata": {},
   "source": [
    "##### a. Update map by year (update_map)"
   ]
  },
  {
   "cell_type": "code",
   "execution_count": 9,
   "id": "cbdb0114-a96c-42ab-97b9-44a925177767",
   "metadata": {},
   "outputs": [],
   "source": [
    "@pn.cache\n",
    "def update_map(year):\n",
    "\tdf_selected_year = df_renewable[df_renewable['Year'] == year]\n",
    "\treturn create_choropleth_map(df_selected_year)"
   ]
  },
  {
   "cell_type": "markdown",
   "id": "004f600c-1c79-496d-8ef4-24a1ed3de6e2",
   "metadata": {},
   "source": [
    "##### b. Update year chart (update_year_chart)"
   ]
  },
  {
   "cell_type": "code",
   "execution_count": 13,
   "id": "e7985ef2-e515-46fc-b295-f712307275c4",
   "metadata": {},
   "outputs": [],
   "source": [
    "@pn.cache\n",
    "def update_year_chart(year):\n",
    "\tdf_selected_year = df_renewable[df_renewable['Year'] == year].sort_values(by='Renewable Percentage')\n",
    "\treturn create_bar_chart_year(df_selected_year, year)"
   ]
  },
  {
   "cell_type": "markdown",
   "id": "0166a6d4-d7a8-440e-af9b-eb8a27c8103a",
   "metadata": {},
   "source": [
    "##### c. Update country chart (update_country_chart)"
   ]
  },
  {
   "cell_type": "code",
   "execution_count": 11,
   "id": "8899de5a-8e1f-457f-b183-3055a2120261",
   "metadata": {},
   "outputs": [],
   "source": [
    "@pn.cache\n",
    "def update_country_chart(country):\n",
    "\tdf_selected_country = df_renewable[df_renewable['Country'] == country]\n",
    "\treturn create_bar_chart_country(df_eu_total, df_selected_country, country)"
   ]
  },
  {
   "cell_type": "markdown",
   "id": "a339c653-c24a-48eb-9696-07e1b8fa0679",
   "metadata": {},
   "source": [
    "##### d. Update country chart by selection (update_country_chart)"
   ]
  },
  {
   "cell_type": "code",
   "execution_count": 12,
   "id": "f7eed9ee-f445-4895-951a-c0c15ed87f54",
   "metadata": {},
   "outputs": [],
   "source": [
    "def update_country_chart(selected_value):\n",
    "\t# Extract the country name from the selection\n",
    "\tselected_country = selected_value.split(\" \", 1)[1]\n",
    "\t# Filter the dataframe for the selected country\n",
    "\tdf_selected_country = df_renewable[df_renewable['Country'] == selected_country]\n",
    "\t# Create the bar chart\n",
    "\treturn create_bar_chart_country(df_eu_total, df_selected_country, selected_country)"
   ]
  },
  {
   "cell_type": "markdown",
   "id": "00649bf8-fdcc-4738-a267-fe128dab03ee",
   "metadata": {},
   "source": [
    "#### c. Bind Widgets to Update Functions"
   ]
  },
  {
   "cell_type": "markdown",
   "id": "a5334342-d4e2-4f1b-a9bb-4600ad88bb56",
   "metadata": {},
   "source": [
    "- Step 1: Bind year selection to map \n",
    "- Step 2: Bind year yelection to chart\n",
    "- Step 2: Bind country selection"
   ]
  },
  {
   "cell_type": "markdown",
   "id": "d28f4e15-a3e1-4e09-96a7-6aa652a11202",
   "metadata": {},
   "source": [
    "#### **Code**"
   ]
  },
  {
   "cell_type": "code",
   "execution_count": null,
   "id": "ab9278db-2f3e-479e-93e2-024c6eabc858",
   "metadata": {},
   "outputs": [],
   "source": [
    "## Step 1: Bind year selection to map\n",
    "interactive_map = pn.bind(update_map, year_slider)\n",
    "\n",
    "## Step 2: Bind year selection to chart\n",
    "interactive_bar_chart_year = pn.bind(update_year_chart, year_slider)\n",
    "\n",
    "## Step 3: Bind country selection to chart\n",
    "interactive_bar_chart_country = pn.bind(update_country_chart, country_selection.param.value)"
   ]
  },
  {
   "cell_type": "markdown",
   "id": "ddbb1ade-8d1f-40ef-9b05-f7f2a8fb26ab",
   "metadata": {},
   "source": [
    "### VI. Dashboard Layout"
   ]
  },
  {
   "cell_type": "markdown",
   "id": "2efae31b-7c35-4fa2-b683-f0f26ff252f0",
   "metadata": {},
   "source": [
    "#### a. Create Panes"
   ]
  },
  {
   "cell_type": "markdown",
   "id": "891f6f2b-050e-4fe6-a646-96ec364848e2",
   "metadata": {},
   "source": [
    "- i. Year selection & chart (filter_year_pane)\n",
    "- ii. Country selection & chart (filter_country_pane)\n",
    "- iii. Data table (table_pane)"
   ]
  },
  {
   "cell_type": "markdown",
   "id": "5a7cfb02-be8e-4931-9f88-0d0a7a4e370b",
   "metadata": {},
   "source": [
    "#### **Code**"
   ]
  },
  {
   "cell_type": "code",
   "execution_count": 14,
   "id": "6a6a6fc6-277d-48fe-b8e0-f0763b76b921",
   "metadata": {},
   "outputs": [
    {
     "ename": "NameError",
     "evalue": "name 'interactive_bar_chart_year' is not defined",
     "output_type": "error",
     "traceback": [
      "\u001b[0;31m---------------------------------------------------------------------------\u001b[0m",
      "\u001b[0;31mNameError\u001b[0m                                 Traceback (most recent call last)",
      "Cell \u001b[0;32mIn[14], line 4\u001b[0m\n\u001b[1;32m      1\u001b[0m \u001b[38;5;66;03m## i. Year selection & chart\u001b[39;00m\n\u001b[1;32m      2\u001b[0m filter_year_pane \u001b[38;5;241m=\u001b[39m pn\u001b[38;5;241m.\u001b[39mColumn(\n\u001b[1;32m      3\u001b[0m \tyear_slider,\n\u001b[0;32m----> 4\u001b[0m \tpn\u001b[38;5;241m.\u001b[39mpane\u001b[38;5;241m.\u001b[39mPlotly(\u001b[43minteractive_bar_chart_year\u001b[49m, sizing_mode\u001b[38;5;241m=\u001b[39m\u001b[38;5;124m'\u001b[39m\u001b[38;5;124mstretch_width\u001b[39m\u001b[38;5;124m'\u001b[39m)\n\u001b[1;32m      5\u001b[0m )\n\u001b[1;32m      7\u001b[0m \u001b[38;5;66;03m## ii. Country selection & chart\u001b[39;00m\n\u001b[1;32m      8\u001b[0m filter_country_pane \u001b[38;5;241m=\u001b[39m pn\u001b[38;5;241m.\u001b[39mColumn(\n\u001b[1;32m      9\u001b[0m \tcountry_selection,\n\u001b[1;32m     10\u001b[0m \tpn\u001b[38;5;241m.\u001b[39mpane\u001b[38;5;241m.\u001b[39mPlotly(interactive_bar_chart_country, sizing_mode\u001b[38;5;241m=\u001b[39m\u001b[38;5;124m'\u001b[39m\u001b[38;5;124mstretch_width\u001b[39m\u001b[38;5;124m'\u001b[39m)\n\u001b[1;32m     11\u001b[0m )\n",
      "\u001b[0;31mNameError\u001b[0m: name 'interactive_bar_chart_year' is not defined"
     ]
    }
   ],
   "source": [
    "## i. Year selection & chart\n",
    "filter_year_pane = pn.Column(\n",
    "\tyear_slider,\n",
    "\tpn.pane.Plotly(interactive_bar_chart_year, sizing_mode='stretch_width')\n",
    ")\n",
    "\n",
    "## ii. Country selection & chart\n",
    "filter_country_pane = pn.Column(\n",
    "\tcountry_selection,\n",
    "\tpn.pane.Plotly(interactive_bar_chart_country, sizing_mode='stretch_width')\n",
    ")\n",
    "\n",
    "## iii. Data table\n",
    "table_pane = pn.Column(fig_table)\n"
   ]
  },
  {
   "cell_type": "markdown",
   "id": "2abddb6f-193c-4620-a878-073ddae318f4",
   "metadata": {},
   "source": [
    "#### b. Create Tabs (tabs)"
   ]
  },
  {
   "cell_type": "markdown",
   "id": "871b2124-5121-4ea5-bc4e-3f1b5e5a4d23",
   "metadata": {},
   "source": [
    "#### **Code**"
   ]
  },
  {
   "cell_type": "code",
   "execution_count": 15,
   "id": "393d25d4-5a29-4e91-b8f9-2a822d40560a",
   "metadata": {},
   "outputs": [
    {
     "name": "stderr",
     "output_type": "stream",
     "text": [
      "<>:3: SyntaxWarning: 'tuple' object is not callable; perhaps you missed a comma?\n",
      "<>:3: SyntaxWarning: 'tuple' object is not callable; perhaps you missed a comma?\n",
      "/tmp/ipykernel_41698/1174661310.py:3: SyntaxWarning: 'tuple' object is not callable; perhaps you missed a comma?\n",
      "  ('Filter by Country', filter_country_pane)\n"
     ]
    },
    {
     "ename": "NameError",
     "evalue": "name 'filter_year_pane' is not defined",
     "output_type": "error",
     "traceback": [
      "\u001b[0;31m---------------------------------------------------------------------------\u001b[0m",
      "\u001b[0;31mNameError\u001b[0m                                 Traceback (most recent call last)",
      "Cell \u001b[0;32mIn[15], line 2\u001b[0m\n\u001b[1;32m      1\u001b[0m tabs \u001b[38;5;241m=\u001b[39m pn\u001b[38;5;241m.\u001b[39mTabs(\n\u001b[0;32m----> 2\u001b[0m \t(\u001b[38;5;124m'\u001b[39m\u001b[38;5;124mFilter by Year\u001b[39m\u001b[38;5;124m'\u001b[39m, \u001b[43mfilter_year_pane\u001b[49m),\n\u001b[1;32m      3\u001b[0m \t(\u001b[38;5;124m'\u001b[39m\u001b[38;5;124mFilter by Country\u001b[39m\u001b[38;5;124m'\u001b[39m, filter_country_pane)\n\u001b[1;32m      4\u001b[0m \t(\u001b[38;5;124m'\u001b[39m\u001b[38;5;124mExplore Data\u001b[39m\u001b[38;5;124m'\u001b[39m, table_pane)\n\u001b[1;32m      5\u001b[0m )\n",
      "\u001b[0;31mNameError\u001b[0m: name 'filter_year_pane' is not defined"
     ]
    }
   ],
   "source": [
    "tabs = pn.Tabs(\n",
    "\t('Filter by Year', filter_year_pane),\n",
    "\t('Filter by Country', filter_country_pane)\n",
    "\t('Explore Data', table_pane)\n",
    ")"
   ]
  },
  {
   "cell_type": "markdown",
   "id": "85eebf8f-7c76-4394-93be-a14465721c72",
   "metadata": {},
   "source": [
    "#### c. Create Layout (layout)"
   ]
  },
  {
   "cell_type": "markdown",
   "id": "17775e29-0477-46a3-97a9-01619bb88ffe",
   "metadata": {},
   "source": [
    "#### **Code**"
   ]
  },
  {
   "cell_type": "code",
   "execution_count": 16,
   "id": "50d53bb4-7f42-4749-8fce-92c5c56c3083",
   "metadata": {},
   "outputs": [
    {
     "ename": "NameError",
     "evalue": "name 'interactive_map' is not defined",
     "output_type": "error",
     "traceback": [
      "\u001b[0;31m---------------------------------------------------------------------------\u001b[0m",
      "\u001b[0;31mNameError\u001b[0m                                 Traceback (most recent call last)",
      "Cell \u001b[0;32mIn[16], line 2\u001b[0m\n\u001b[1;32m      1\u001b[0m layout \u001b[38;5;241m=\u001b[39m pn\u001b[38;5;241m.\u001b[39mColumn(\n\u001b[0;32m----> 2\u001b[0m \tpn\u001b[38;5;241m.\u001b[39mpane\u001b[38;5;241m.\u001b[39mPlotly(\u001b[43minteractive_map\u001b[49m, sizing_mode\u001b[38;5;241m=\u001b[39m\u001b[38;5;124m'\u001b[39m\u001b[38;5;124mstretch_width\u001b[39m\u001b[38;5;124m'\u001b[39m),\n\u001b[1;32m      3\u001b[0m \ttabs,\n\u001b[1;32m      4\u001b[0m \tsizing_mode\u001b[38;5;241m=\u001b[39m\u001b[38;5;124m'\u001b[39m\u001b[38;5;124mstretch_width\u001b[39m\u001b[38;5;124m'\u001b[39m\n\u001b[1;32m      5\u001b[0m )\n",
      "\u001b[0;31mNameError\u001b[0m: name 'interactive_map' is not defined"
     ]
    }
   ],
   "source": [
    "layout = pn.Column(\n",
    "\tpn.pane.Plotly(interactive_map, sizing_mode='stretch_width'),\n",
    "\ttabs,\n",
    "\tsizing_mode='stretch_width'\n",
    ")"
   ]
  },
  {
   "cell_type": "markdown",
   "id": "8a67ca50-bd4b-4d48-9785-40c32ca88c53",
   "metadata": {},
   "source": [
    "### VII. Serve Dashboard"
   ]
  },
  {
   "cell_type": "markdown",
   "id": "90012748-a0ff-4dca-b62e-221a48f4d6fe",
   "metadata": {},
   "source": [
    "#### **Code**"
   ]
  },
  {
   "cell_type": "code",
   "execution_count": null,
   "id": "2168f01e-d855-42c7-81d8-381608143316",
   "metadata": {},
   "outputs": [],
   "source": [
    "pn.template.FastListTemplate(\n",
    "\ttitle=\"EU Energy Map\", \n",
    "\tsidebar=[sidebar_pane],\n",
    "\tmain=[layout]\n",
    ").servable();"
   ]
  }
 ],
 "metadata": {
  "kernelspec": {
   "display_name": "Python 3 (ipykernel)",
   "language": "python",
   "name": "python3"
  },
  "language_info": {
   "codemirror_mode": {
    "name": "ipython",
    "version": 3
   },
   "file_extension": ".py",
   "mimetype": "text/x-python",
   "name": "python",
   "nbconvert_exporter": "python",
   "pygments_lexer": "ipython3",
   "version": "3.11.12"
  }
 },
 "nbformat": 4,
 "nbformat_minor": 5
}
