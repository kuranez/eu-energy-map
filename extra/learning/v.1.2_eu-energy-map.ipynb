{
 "cells": [
  {
   "cell_type": "markdown",
   "id": "0ca13170-5f42-49ad-91c1-945e882ae7c6",
   "metadata": {},
   "source": [
    "# EU Energy Map\n",
    "\n",
    "**Version 1.2**\n",
    "\n",
    "https://github.com/kuranez/EU-Energy-Map"
   ]
  },
  {
   "cell_type": "markdown",
   "id": "5cbad65b-baae-4d85-afdc-adceb83793ca",
   "metadata": {},
   "source": [
    "# I. Import"
   ]
  },
  {
   "cell_type": "code",
   "execution_count": null,
   "id": "36db3ed3-1e21-4be5-be4f-921b6ad2769f",
   "metadata": {},
   "outputs": [],
   "source": [
    "import os\n",
    "import json\n",
    "\n",
    "import panel as pn\n",
    "import pandas as pd\n",
    "import geopandas as gpd\n",
    "import plotly.express as px\n",
    "import plotly.graph_objects as go\n",
    "import plotly.io as pio\n",
    "from plotly.colors import sample_colorscale"
   ]
  },
  {
   "cell_type": "markdown",
   "id": "221c52a7-5a9a-4808-9aac-370f54b771f6",
   "metadata": {},
   "source": [
    "# II. Settings"
   ]
  },
  {
   "cell_type": "code",
   "execution_count": null,
   "id": "7cb68a1c-1262-41b2-b683-c4992f52afef",
   "metadata": {},
   "outputs": [],
   "source": [
    "# Initialize Panel extension\n",
    "pn.extension('tabulator', 'plotly', design='material', sizing_mode='stretch_width')\n",
    "\n",
    "# Set MapBox access token\n",
    "MAPBOX_TOKEN = 'pk.eyJ1Ijoia3VyYW5leiIsImEiOiJjbTJmMjI0d2kwNDVxMnFzYXNldnc1N2VsIn0.t11TYpF2QBdid-hQfW8mig'"
   ]
  },
  {
   "cell_type": "markdown",
   "id": "f382f484-db56-4c4e-84bb-9cf0b6a8d4d2",
   "metadata": {},
   "source": [
    "# III. Functions"
   ]
  },
  {
   "cell_type": "code",
   "execution_count": null,
   "id": "50cb432f-4146-4805-a352-efcfed77ca2e",
   "metadata": {},
   "outputs": [],
   "source": [
    "@pn.cache\n",
    "def iso2_to_flag(iso2_code):\n",
    "    \"\"\"Convert ISO2 country code to flag emoji.\"\"\"\n",
    "    return chr(0x1F1E6 + ord(iso2_code[0]) - ord('A')) + chr(0x1F1E6 + ord(iso2_code[1]) - ord('A'))"
   ]
  },
  {
   "cell_type": "code",
   "execution_count": null,
   "id": "b980b5c5-f20d-463c-acb4-cc18cf060035",
   "metadata": {},
   "outputs": [],
   "source": [
    "def load_data():\n",
    "    \"\"\"Load energy data and European geojson data.\"\"\"\n",
    "    data = pd.read_csv('./data/nrg_ind_ren_linear.csv')\n",
    "    europe_gdf = gpd.read_file(\"europe.geojson\")\n",
    "    \n",
    "    merged_data = europe_gdf.merge(data, left_on='CNTR_ID', right_on='geo')\n",
    "    \n",
    "    merged_data.rename(columns={\n",
    "        'nrg_bal': 'Energy Type', 'TIME_PERIOD': 'Year',\n",
    "        'OBS_VALUE': 'Renewable Percentage', 'geo': 'Code',\n",
    "        'NAME_ENGL': 'Country'\n",
    "    }, inplace=True)\n",
    "    \n",
    "    energy_type_map = {\n",
    "        'REN': 'Renewable Energy Total',\n",
    "        'REN_ELC': 'Renewable Electricity',\n",
    "        'REN_HEAT_CL': 'Renewable Heating and Cooling',\n",
    "        'REN_TRA': 'Renewable Energy in Transport'\n",
    "    }\n",
    "    merged_data['Energy Type'] = merged_data['Energy Type'].replace(energy_type_map)\n",
    "    \n",
    "    merged_data.drop(columns=['LAST UPDATE', 'freq', 'unit', 'OBS_FLAG'], inplace=True)\n",
    "    merged_data[['Year', 'Renewable Percentage']] = merged_data[['Year', 'Renewable Percentage']].apply(pd.to_numeric)\n",
    "    merged_data['Renewable Percentage'] = merged_data['Renewable Percentage'].round(1)\n",
    "    merged_data['Flag'] = merged_data['Code'].apply(iso2_to_flag)\n",
    "    \n",
    "    final_columns = [\n",
    "        'Code', 'Flag', 'Country', 'Energy Type', 'Renewable Percentage', 'Year',\n",
    "        'CNTR_ID', 'ISO3_CODE', 'geometry'\n",
    "    ]\n",
    "    return merged_data[final_columns]"
   ]
  },
  {
   "cell_type": "code",
   "execution_count": null,
   "id": "83588c9d-076d-4cdf-af6d-dbf3eee022e7",
   "metadata": {},
   "outputs": [],
   "source": [
    "def filter_data(merged_data):\n",
    "    \"\"\"Filter and structure dataset for visualization.\"\"\"\n",
    "    eu_countries = {\"AT\", \"BE\", \"BG\", \"HR\", \"CY\", \"CZ\", \"DK\", \"EE\", \"FI\", \"FR\", \"DE\", \"GR\", \"HU\", \"IE\", \"IT\", \"LV\", \"LT\", \n",
    "                    \"LU\", \"MT\", \"NL\", \"PL\", \"PT\", \"RO\", \"SK\", \"SI\", \"ES\", \"SE\"}\n",
    "    df_renewable = merged_data[(merged_data['Energy Type'] == 'Renewable Energy Total') & merged_data['Code'].isin(eu_countries)]\n",
    "    df_eu_total = df_renewable.groupby('Year', as_index=False)['Renewable Percentage'].mean()\n",
    "    return df_renewable, df_eu_total"
   ]
  },
  {
   "cell_type": "code",
   "execution_count": null,
   "id": "ff02f970-047f-438b-8a5d-da35881c58ac",
   "metadata": {},
   "outputs": [],
   "source": [
    "@pn.cache\n",
    "def create_choropleth_map(df_year):\n",
    "    \"\"\"Generate a Choropleth map of renewable energy percentages.\"\"\"\n",
    "    fig = go.Figure(go.Choroplethmapbox(\n",
    "        geojson=json.load(open('europe.geojson')),\n",
    "        locations=df_year['Code'],\n",
    "        z=df_year['Renewable Percentage'],\n",
    "        colorscale=\"Viridis\",\n",
    "        marker_opacity=0.8, marker_line_width=0.5,\n",
    "        featureidkey=\"properties.CNTR_ID\"\n",
    "    ))\n",
    "    fig.update_layout(mapbox_accesstoken=MAPBOX_TOKEN, mapbox_style=\"carto-positron\", mapbox_zoom=3,\n",
    "                      mapbox_center={\"lat\": 54, \"lon\": 15}, margin={\"r\": 0, \"t\": 0, \"l\": 0, \"b\": 0})\n",
    "    return fig"
   ]
  },
  {
   "cell_type": "code",
   "execution_count": null,
   "id": "06c14a33-1b57-434a-b505-37f53fca04d0",
   "metadata": {},
   "outputs": [],
   "source": [
    "@pn.cache\n",
    "def create_bar_chart_year(df_year, year):\n",
    "    \"\"\"Generate a bar chart of renewable energy by country.\"\"\"\n",
    "    df_year = df_year.sort_values(by='Renewable Percentage')\n",
    "    fig = px.bar(df_year, x='Country', y='Renewable Percentage', color='Renewable Percentage', color_continuous_scale='Viridis')\n",
    "    fig.update_layout(title=f\"Renewable Energy in {year}\", yaxis_title=\"Renewable Energy (%)\")\n",
    "    return fig"
   ]
  },
  {
   "cell_type": "code",
   "execution_count": null,
   "id": "6cc1ab2b-913b-4da9-90d0-ecf7a3abb330",
   "metadata": {},
   "outputs": [],
   "source": [
    "@pn.cache\n",
    "def create_bar_chart_country(df_eu_total, df_country, country):\n",
    "    \"\"\"Generate a bar chart of a country's renewable energy progression.\"\"\"\n",
    "    fig = go.Figure()\n",
    "    fig.add_trace(go.Scatter(x=df_eu_total['Year'], y=df_eu_total['Renewable Percentage'], mode='lines+markers', name=\"EU Avg\"))\n",
    "    fig.add_trace(go.Bar(x=df_country['Year'], y=df_country['Renewable Percentage'], name=country))\n",
    "    fig.update_layout(title=f\"{country} Renewable Energy (2004-2022)\", yaxis_title=\"Renewable Energy (%)\")\n",
    "    return fig"
   ]
  },
  {
   "cell_type": "markdown",
   "id": "807af8c7-215d-44ef-beb5-2393d37d9226",
   "metadata": {},
   "source": [
    "# IV.  Main"
   ]
  },
  {
   "cell_type": "code",
   "execution_count": null,
   "id": "babd7ab7-d9b3-461b-9e66-10e4c47c4b68",
   "metadata": {},
   "outputs": [],
   "source": [
    "# Load and preprocess data\n",
    "merged_data = load_data()\n",
    "df_renewable, df_eu_total = filter_data(merged_data)\n",
    "selected_year, selected_country = 2022, \"Germany\"\n",
    "df_year = df_renewable[df_renewable['Year'] == selected_year]\n",
    "df_country = df_renewable[df_renewable['Country'] == selected_country]"
   ]
  },
  {
   "cell_type": "markdown",
   "id": "5eef196c-987d-43fa-a668-bcbd1097dfdf",
   "metadata": {},
   "source": [
    "# V. Dashboard"
   ]
  },
  {
   "cell_type": "code",
   "execution_count": null,
   "id": "acc9c0d5-f97d-47ba-9602-73e61bbc3ef4",
   "metadata": {},
   "outputs": [],
   "source": [
    "# Widgets\n",
    "year_slider = pn.widgets.IntSlider(name='Year', start=2004, end=2022, step=1, value=selected_year)\n",
    "country_selection = pn.widgets.Select(name='Country', options=df_renewable['Country'].unique().tolist(), value=selected_country)"
   ]
  },
  {
   "cell_type": "code",
   "execution_count": null,
   "id": "0f76b622-d249-4edb-aed6-e4bc7f929d68",
   "metadata": {},
   "outputs": [],
   "source": [
    "# Interactive components\n",
    "interactive_map = pn.bind(create_choropleth_map, year_slider)\n",
    "interactive_bar_chart_year = pn.bind(create_bar_chart_year, year_slider)\n",
    "interactive_bar_chart_country = pn.bind(create_bar_chart_country, df_eu_total, country_selection.param.value)"
   ]
  },
  {
   "cell_type": "code",
   "execution_count": null,
   "id": "6f5cf56b-1054-4918-9963-99e417478ecb",
   "metadata": {},
   "outputs": [],
   "source": [
    "# Layout\n",
    "tabs = pn.Tabs(('Year Filter', pn.Column(year_slider, pn.pane.Plotly(interactive_bar_chart_year))),\n",
    "               ('Country Filter', pn.Column(country_selection, pn.pane.Plotly(interactive_bar_chart_country))))\n",
    "layout = pn.Column(pn.pane.Plotly(interactive_map), tabs)"
   ]
  },
  {
   "cell_type": "code",
   "execution_count": null,
   "id": "ca8cf400-59c8-4312-a7fe-ab52133afadd",
   "metadata": {},
   "outputs": [],
   "source": [
    "pn.template.FastListTemplate(title=\"EU Energy Map\", sidebar=[], main=[layout]).servable()"
   ]
  }
 ],
 "metadata": {
  "kernelspec": {
   "display_name": "Python 3 (ipykernel)",
   "language": "python",
   "name": "python3"
  },
  "language_info": {
   "codemirror_mode": {
    "name": "ipython",
    "version": 3
   },
   "file_extension": ".py",
   "mimetype": "text/x-python",
   "name": "python",
   "nbconvert_exporter": "python",
   "pygments_lexer": "ipython3",
   "version": "3.11.12"
  }
 },
 "nbformat": 4,
 "nbformat_minor": 5
}
